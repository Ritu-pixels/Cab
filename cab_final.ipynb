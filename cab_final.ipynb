{
 "cells": [
  {
   "cell_type": "markdown",
   "metadata": {},
   "source": [
    "# Problem Statement -\n",
    "You are a cab rental start-up company. You have successfully run the pilot project and\n",
    "now want to launch your cab service across the country. You have collected the\n",
    "historical data from your pilot project and now have a requirement to apply analytics for\n",
    "fare prediction. You need to design a system that predicts the fare amount for a cab ride\n",
    "in the city.\n",
    "\n",
    "\n",
    "\n",
    "Data Set :\n",
    "1) train_cab.zip\n",
    "2) test.zip\n",
    "\n",
    "\n",
    "\n",
    "Number of attributes:\n",
    "\n",
    "· pickup_datetime - timestamp value indicating when the cab ride started.\n",
    "\n",
    "· pickup_longitude - float for longitude coordinate of where the cab ride started.\n",
    "\n",
    "· pickup_latitude - float for latitude coordinate of where the cab ride started.\n",
    "\n",
    "· dropoff_longitude - float for longitude coordinate of where the cab ride ended.\n",
    "\n",
    "· dropoff_latitude - float for latitude coordinate of where the cab ride ended.\n",
    "\n",
    "· passenger_count - an integer indicating the number of passengers in the cab\n",
    "  ride.\n"
   ]
  },
  {
   "cell_type": "code",
   "execution_count": 2,
   "metadata": {},
   "outputs": [
    {
     "name": "stderr",
     "output_type": "stream",
     "text": [
      "Using TensorFlow backend.\n"
     ]
    }
   ],
   "source": [
    "import os\n",
    "import pandas as pd\n",
    "import numpy as np\n",
    "from fancyimpute import KNN   \n",
    "import seaborn as sns\n",
    "import matplotlib.pyplot as plt\n",
    "%matplotlib inline\n"
   ]
  },
  {
   "cell_type": "code",
   "execution_count": 3,
   "metadata": {},
   "outputs": [],
   "source": [
    "train = pd.read_csv('C:\\\\Users\\\\Ritu khurana\\\\Desktop\\\\Assigments\\\\Project_cab\\\\train_cab.csv')"
   ]
  },
  {
   "cell_type": "code",
   "execution_count": 4,
   "metadata": {},
   "outputs": [
    {
     "data": {
      "text/html": [
       "<div>\n",
       "<style scoped>\n",
       "    .dataframe tbody tr th:only-of-type {\n",
       "        vertical-align: middle;\n",
       "    }\n",
       "\n",
       "    .dataframe tbody tr th {\n",
       "        vertical-align: top;\n",
       "    }\n",
       "\n",
       "    .dataframe thead th {\n",
       "        text-align: right;\n",
       "    }\n",
       "</style>\n",
       "<table border=\"1\" class=\"dataframe\">\n",
       "  <thead>\n",
       "    <tr style=\"text-align: right;\">\n",
       "      <th></th>\n",
       "      <th>fare_amount</th>\n",
       "      <th>pickup_datetime</th>\n",
       "      <th>pickup_longitude</th>\n",
       "      <th>pickup_latitude</th>\n",
       "      <th>dropoff_longitude</th>\n",
       "      <th>dropoff_latitude</th>\n",
       "      <th>passenger_count</th>\n",
       "    </tr>\n",
       "  </thead>\n",
       "  <tbody>\n",
       "    <tr>\n",
       "      <th>0</th>\n",
       "      <td>4.5</td>\n",
       "      <td>2009-06-15 17:26:21 UTC</td>\n",
       "      <td>-73.844311</td>\n",
       "      <td>40.721319</td>\n",
       "      <td>-73.841610</td>\n",
       "      <td>40.712278</td>\n",
       "      <td>1.0</td>\n",
       "    </tr>\n",
       "    <tr>\n",
       "      <th>1</th>\n",
       "      <td>16.9</td>\n",
       "      <td>2010-01-05 16:52:16 UTC</td>\n",
       "      <td>-74.016048</td>\n",
       "      <td>40.711303</td>\n",
       "      <td>-73.979268</td>\n",
       "      <td>40.782004</td>\n",
       "      <td>1.0</td>\n",
       "    </tr>\n",
       "    <tr>\n",
       "      <th>2</th>\n",
       "      <td>5.7</td>\n",
       "      <td>2011-08-18 00:35:00 UTC</td>\n",
       "      <td>-73.982738</td>\n",
       "      <td>40.761270</td>\n",
       "      <td>-73.991242</td>\n",
       "      <td>40.750562</td>\n",
       "      <td>2.0</td>\n",
       "    </tr>\n",
       "    <tr>\n",
       "      <th>3</th>\n",
       "      <td>7.7</td>\n",
       "      <td>2012-04-21 04:30:42 UTC</td>\n",
       "      <td>-73.987130</td>\n",
       "      <td>40.733143</td>\n",
       "      <td>-73.991567</td>\n",
       "      <td>40.758092</td>\n",
       "      <td>1.0</td>\n",
       "    </tr>\n",
       "    <tr>\n",
       "      <th>4</th>\n",
       "      <td>5.3</td>\n",
       "      <td>2010-03-09 07:51:00 UTC</td>\n",
       "      <td>-73.968095</td>\n",
       "      <td>40.768008</td>\n",
       "      <td>-73.956655</td>\n",
       "      <td>40.783762</td>\n",
       "      <td>1.0</td>\n",
       "    </tr>\n",
       "  </tbody>\n",
       "</table>\n",
       "</div>"
      ],
      "text/plain": [
       "  fare_amount          pickup_datetime  pickup_longitude  pickup_latitude  \\\n",
       "0         4.5  2009-06-15 17:26:21 UTC        -73.844311        40.721319   \n",
       "1        16.9  2010-01-05 16:52:16 UTC        -74.016048        40.711303   \n",
       "2         5.7  2011-08-18 00:35:00 UTC        -73.982738        40.761270   \n",
       "3         7.7  2012-04-21 04:30:42 UTC        -73.987130        40.733143   \n",
       "4         5.3  2010-03-09 07:51:00 UTC        -73.968095        40.768008   \n",
       "\n",
       "   dropoff_longitude  dropoff_latitude  passenger_count  \n",
       "0         -73.841610         40.712278              1.0  \n",
       "1         -73.979268         40.782004              1.0  \n",
       "2         -73.991242         40.750562              2.0  \n",
       "3         -73.991567         40.758092              1.0  \n",
       "4         -73.956655         40.783762              1.0  "
      ]
     },
     "execution_count": 4,
     "metadata": {},
     "output_type": "execute_result"
    }
   ],
   "source": [
    "train.head()"
   ]
  },
  {
   "cell_type": "code",
   "execution_count": 5,
   "metadata": {},
   "outputs": [
    {
     "name": "stdout",
     "output_type": "stream",
     "text": [
      "<class 'pandas.core.frame.DataFrame'>\n",
      "RangeIndex: 16067 entries, 0 to 16066\n",
      "Data columns (total 7 columns):\n",
      "fare_amount          16043 non-null object\n",
      "pickup_datetime      16067 non-null object\n",
      "pickup_longitude     16067 non-null float64\n",
      "pickup_latitude      16067 non-null float64\n",
      "dropoff_longitude    16067 non-null float64\n",
      "dropoff_latitude     16067 non-null float64\n",
      "passenger_count      16012 non-null float64\n",
      "dtypes: float64(5), object(2)\n",
      "memory usage: 878.7+ KB\n"
     ]
    }
   ],
   "source": [
    "train.info()"
   ]
  },
  {
   "cell_type": "code",
   "execution_count": 6,
   "metadata": {},
   "outputs": [
    {
     "data": {
      "text/html": [
       "<div>\n",
       "<style scoped>\n",
       "    .dataframe tbody tr th:only-of-type {\n",
       "        vertical-align: middle;\n",
       "    }\n",
       "\n",
       "    .dataframe tbody tr th {\n",
       "        vertical-align: top;\n",
       "    }\n",
       "\n",
       "    .dataframe thead th {\n",
       "        text-align: right;\n",
       "    }\n",
       "</style>\n",
       "<table border=\"1\" class=\"dataframe\">\n",
       "  <thead>\n",
       "    <tr style=\"text-align: right;\">\n",
       "      <th></th>\n",
       "      <th>pickup_longitude</th>\n",
       "      <th>pickup_latitude</th>\n",
       "      <th>dropoff_longitude</th>\n",
       "      <th>dropoff_latitude</th>\n",
       "      <th>passenger_count</th>\n",
       "    </tr>\n",
       "  </thead>\n",
       "  <tbody>\n",
       "    <tr>\n",
       "      <th>count</th>\n",
       "      <td>16067.000000</td>\n",
       "      <td>16067.000000</td>\n",
       "      <td>16067.000000</td>\n",
       "      <td>16067.000000</td>\n",
       "      <td>16012.000000</td>\n",
       "    </tr>\n",
       "    <tr>\n",
       "      <th>mean</th>\n",
       "      <td>-72.462787</td>\n",
       "      <td>39.914725</td>\n",
       "      <td>-72.462328</td>\n",
       "      <td>39.897906</td>\n",
       "      <td>2.625070</td>\n",
       "    </tr>\n",
       "    <tr>\n",
       "      <th>std</th>\n",
       "      <td>10.578384</td>\n",
       "      <td>6.826587</td>\n",
       "      <td>10.575062</td>\n",
       "      <td>6.187087</td>\n",
       "      <td>60.844122</td>\n",
       "    </tr>\n",
       "    <tr>\n",
       "      <th>min</th>\n",
       "      <td>-74.438233</td>\n",
       "      <td>-74.006893</td>\n",
       "      <td>-74.429332</td>\n",
       "      <td>-74.006377</td>\n",
       "      <td>0.000000</td>\n",
       "    </tr>\n",
       "    <tr>\n",
       "      <th>25%</th>\n",
       "      <td>-73.992156</td>\n",
       "      <td>40.734927</td>\n",
       "      <td>-73.991182</td>\n",
       "      <td>40.734651</td>\n",
       "      <td>1.000000</td>\n",
       "    </tr>\n",
       "    <tr>\n",
       "      <th>50%</th>\n",
       "      <td>-73.981698</td>\n",
       "      <td>40.752603</td>\n",
       "      <td>-73.980172</td>\n",
       "      <td>40.753567</td>\n",
       "      <td>1.000000</td>\n",
       "    </tr>\n",
       "    <tr>\n",
       "      <th>75%</th>\n",
       "      <td>-73.966838</td>\n",
       "      <td>40.767381</td>\n",
       "      <td>-73.963643</td>\n",
       "      <td>40.768013</td>\n",
       "      <td>2.000000</td>\n",
       "    </tr>\n",
       "    <tr>\n",
       "      <th>max</th>\n",
       "      <td>40.766125</td>\n",
       "      <td>401.083332</td>\n",
       "      <td>40.802437</td>\n",
       "      <td>41.366138</td>\n",
       "      <td>5345.000000</td>\n",
       "    </tr>\n",
       "  </tbody>\n",
       "</table>\n",
       "</div>"
      ],
      "text/plain": [
       "       pickup_longitude  pickup_latitude  dropoff_longitude  dropoff_latitude  \\\n",
       "count      16067.000000     16067.000000       16067.000000      16067.000000   \n",
       "mean         -72.462787        39.914725         -72.462328         39.897906   \n",
       "std           10.578384         6.826587          10.575062          6.187087   \n",
       "min          -74.438233       -74.006893         -74.429332        -74.006377   \n",
       "25%          -73.992156        40.734927         -73.991182         40.734651   \n",
       "50%          -73.981698        40.752603         -73.980172         40.753567   \n",
       "75%          -73.966838        40.767381         -73.963643         40.768013   \n",
       "max           40.766125       401.083332          40.802437         41.366138   \n",
       "\n",
       "       passenger_count  \n",
       "count     16012.000000  \n",
       "mean          2.625070  \n",
       "std          60.844122  \n",
       "min           0.000000  \n",
       "25%           1.000000  \n",
       "50%           1.000000  \n",
       "75%           2.000000  \n",
       "max        5345.000000  "
      ]
     },
     "execution_count": 6,
     "metadata": {},
     "output_type": "execute_result"
    }
   ],
   "source": [
    "train.describe()"
   ]
  },
  {
   "cell_type": "code",
   "execution_count": 7,
   "metadata": {},
   "outputs": [
    {
     "data": {
      "text/plain": [
       "Index(['fare_amount', 'pickup_datetime', 'pickup_longitude', 'pickup_latitude',\n",
       "       'dropoff_longitude', 'dropoff_latitude', 'passenger_count'],\n",
       "      dtype='object')"
      ]
     },
     "execution_count": 7,
     "metadata": {},
     "output_type": "execute_result"
    }
   ],
   "source": [
    "train.columns"
   ]
  },
  {
   "cell_type": "code",
   "execution_count": 8,
   "metadata": {},
   "outputs": [
    {
     "data": {
      "text/plain": [
       "fare_amount           object\n",
       "pickup_datetime       object\n",
       "pickup_longitude     float64\n",
       "pickup_latitude      float64\n",
       "dropoff_longitude    float64\n",
       "dropoff_latitude     float64\n",
       "passenger_count      float64\n",
       "dtype: object"
      ]
     },
     "execution_count": 8,
     "metadata": {},
     "output_type": "execute_result"
    }
   ],
   "source": [
    "train.dtypes"
   ]
  },
  {
   "cell_type": "code",
   "execution_count": 9,
   "metadata": {},
   "outputs": [
    {
     "data": {
      "text/plain": [
       "(16067, 7)"
      ]
     },
     "execution_count": 9,
     "metadata": {},
     "output_type": "execute_result"
    }
   ],
   "source": [
    "train.shape"
   ]
  },
  {
   "cell_type": "code",
   "execution_count": 10,
   "metadata": {
    "scrolled": true
   },
   "outputs": [
    {
     "data": {
      "text/plain": [
       "fare_amount          24\n",
       "pickup_datetime       0\n",
       "pickup_longitude      0\n",
       "pickup_latitude       0\n",
       "dropoff_longitude     0\n",
       "dropoff_latitude      0\n",
       "passenger_count      55\n",
       "dtype: int64"
      ]
     },
     "execution_count": 10,
     "metadata": {},
     "output_type": "execute_result"
    }
   ],
   "source": [
    "train.isna().sum()"
   ]
  },
  {
   "cell_type": "code",
   "execution_count": 11,
   "metadata": {},
   "outputs": [],
   "source": [
    "#converting to proper data type\n",
    "train['fare_amount']= train['fare_amount'].apply(pd.to_numeric, errors='coerce')"
   ]
  },
  {
   "cell_type": "code",
   "execution_count": 12,
   "metadata": {},
   "outputs": [
    {
     "data": {
      "text/html": [
       "<div>\n",
       "<style scoped>\n",
       "    .dataframe tbody tr th:only-of-type {\n",
       "        vertical-align: middle;\n",
       "    }\n",
       "\n",
       "    .dataframe tbody tr th {\n",
       "        vertical-align: top;\n",
       "    }\n",
       "\n",
       "    .dataframe thead th {\n",
       "        text-align: right;\n",
       "    }\n",
       "</style>\n",
       "<table border=\"1\" class=\"dataframe\">\n",
       "  <thead>\n",
       "    <tr style=\"text-align: right;\">\n",
       "      <th></th>\n",
       "      <th>fare_amount</th>\n",
       "      <th>pickup_datetime</th>\n",
       "      <th>pickup_longitude</th>\n",
       "      <th>pickup_latitude</th>\n",
       "      <th>dropoff_longitude</th>\n",
       "      <th>dropoff_latitude</th>\n",
       "      <th>passenger_count</th>\n",
       "    </tr>\n",
       "  </thead>\n",
       "  <tbody>\n",
       "    <tr>\n",
       "      <th>2039</th>\n",
       "      <td>-2.9</td>\n",
       "      <td>2010-03-09 23:37:10 UTC</td>\n",
       "      <td>-73.789450</td>\n",
       "      <td>40.643498</td>\n",
       "      <td>-73.788665</td>\n",
       "      <td>40.641952</td>\n",
       "      <td>1.0</td>\n",
       "    </tr>\n",
       "    <tr>\n",
       "      <th>2486</th>\n",
       "      <td>-2.5</td>\n",
       "      <td>2015-03-22 05:14:27 UTC</td>\n",
       "      <td>-74.000031</td>\n",
       "      <td>40.720631</td>\n",
       "      <td>-73.999809</td>\n",
       "      <td>40.720539</td>\n",
       "      <td>1.0</td>\n",
       "    </tr>\n",
       "    <tr>\n",
       "      <th>13032</th>\n",
       "      <td>-3.0</td>\n",
       "      <td>2013-08-30 08:57:10 UTC</td>\n",
       "      <td>-73.995062</td>\n",
       "      <td>40.740755</td>\n",
       "      <td>-73.995885</td>\n",
       "      <td>40.741357</td>\n",
       "      <td>4.0</td>\n",
       "    </tr>\n",
       "  </tbody>\n",
       "</table>\n",
       "</div>"
      ],
      "text/plain": [
       "       fare_amount          pickup_datetime  pickup_longitude  \\\n",
       "2039          -2.9  2010-03-09 23:37:10 UTC        -73.789450   \n",
       "2486          -2.5  2015-03-22 05:14:27 UTC        -74.000031   \n",
       "13032         -3.0  2013-08-30 08:57:10 UTC        -73.995062   \n",
       "\n",
       "       pickup_latitude  dropoff_longitude  dropoff_latitude  passenger_count  \n",
       "2039         40.643498         -73.788665         40.641952              1.0  \n",
       "2486         40.720631         -73.999809         40.720539              1.0  \n",
       "13032        40.740755         -73.995885         40.741357              4.0  "
      ]
     },
     "execution_count": 12,
     "metadata": {},
     "output_type": "execute_result"
    }
   ],
   "source": [
    " \n",
    "train[train['fare_amount']<0]\n"
   ]
  },
  {
   "cell_type": "code",
   "execution_count": 13,
   "metadata": {
    "scrolled": true
   },
   "outputs": [
    {
     "data": {
      "text/html": [
       "<div>\n",
       "<style scoped>\n",
       "    .dataframe tbody tr th:only-of-type {\n",
       "        vertical-align: middle;\n",
       "    }\n",
       "\n",
       "    .dataframe tbody tr th {\n",
       "        vertical-align: top;\n",
       "    }\n",
       "\n",
       "    .dataframe thead th {\n",
       "        text-align: right;\n",
       "    }\n",
       "</style>\n",
       "<table border=\"1\" class=\"dataframe\">\n",
       "  <thead>\n",
       "    <tr style=\"text-align: right;\">\n",
       "      <th></th>\n",
       "      <th>fare_amount</th>\n",
       "      <th>pickup_datetime</th>\n",
       "      <th>pickup_longitude</th>\n",
       "      <th>pickup_latitude</th>\n",
       "      <th>dropoff_longitude</th>\n",
       "      <th>dropoff_latitude</th>\n",
       "      <th>passenger_count</th>\n",
       "    </tr>\n",
       "  </thead>\n",
       "  <tbody>\n",
       "    <tr>\n",
       "      <th>8</th>\n",
       "      <td>NaN</td>\n",
       "      <td>2012-12-03 13:10:00 UTC</td>\n",
       "      <td>-74.006462</td>\n",
       "      <td>40.726713</td>\n",
       "      <td>-73.993078</td>\n",
       "      <td>40.731628</td>\n",
       "      <td>1.0</td>\n",
       "    </tr>\n",
       "    <tr>\n",
       "      <th>26</th>\n",
       "      <td>NaN</td>\n",
       "      <td>2011-02-07 20:01:00 UTC</td>\n",
       "      <td>0.000000</td>\n",
       "      <td>0.000000</td>\n",
       "      <td>0.000000</td>\n",
       "      <td>0.000000</td>\n",
       "      <td>1.0</td>\n",
       "    </tr>\n",
       "    <tr>\n",
       "      <th>69</th>\n",
       "      <td>NaN</td>\n",
       "      <td>2015-05-12 23:51:42 UTC</td>\n",
       "      <td>-73.954796</td>\n",
       "      <td>40.779335</td>\n",
       "      <td>-73.944931</td>\n",
       "      <td>40.780087</td>\n",
       "      <td>1.0</td>\n",
       "    </tr>\n",
       "    <tr>\n",
       "      <th>126</th>\n",
       "      <td>NaN</td>\n",
       "      <td>2013-09-17 04:22:00 UTC</td>\n",
       "      <td>-73.987210</td>\n",
       "      <td>40.729325</td>\n",
       "      <td>-73.931985</td>\n",
       "      <td>40.697207</td>\n",
       "      <td>1.0</td>\n",
       "    </tr>\n",
       "    <tr>\n",
       "      <th>168</th>\n",
       "      <td>NaN</td>\n",
       "      <td>2009-01-16 21:10:00 UTC</td>\n",
       "      <td>-73.994143</td>\n",
       "      <td>40.751193</td>\n",
       "      <td>-73.988897</td>\n",
       "      <td>40.759742</td>\n",
       "      <td>1.0</td>\n",
       "    </tr>\n",
       "    <tr>\n",
       "      <th>240</th>\n",
       "      <td>NaN</td>\n",
       "      <td>2009-06-20 19:28:37 UTC</td>\n",
       "      <td>-73.979345</td>\n",
       "      <td>40.776630</td>\n",
       "      <td>-73.973842</td>\n",
       "      <td>40.757074</td>\n",
       "      <td>1.0</td>\n",
       "    </tr>\n",
       "    <tr>\n",
       "      <th>305</th>\n",
       "      <td>NaN</td>\n",
       "      <td>2014-07-11 05:07:00 UTC</td>\n",
       "      <td>-73.951660</td>\n",
       "      <td>40.772657</td>\n",
       "      <td>-74.010583</td>\n",
       "      <td>40.721405</td>\n",
       "      <td>2.0</td>\n",
       "    </tr>\n",
       "    <tr>\n",
       "      <th>350</th>\n",
       "      <td>NaN</td>\n",
       "      <td>2014-09-05 15:23:00 UTC</td>\n",
       "      <td>-73.968260</td>\n",
       "      <td>40.765140</td>\n",
       "      <td>-73.961115</td>\n",
       "      <td>40.774882</td>\n",
       "      <td>6.0</td>\n",
       "    </tr>\n",
       "    <tr>\n",
       "      <th>413</th>\n",
       "      <td>NaN</td>\n",
       "      <td>2013-09-12 11:32:00 UTC</td>\n",
       "      <td>-73.982060</td>\n",
       "      <td>40.772705</td>\n",
       "      <td>-73.956213</td>\n",
       "      <td>40.771777</td>\n",
       "      <td>55.0</td>\n",
       "    </tr>\n",
       "    <tr>\n",
       "      <th>455</th>\n",
       "      <td>NaN</td>\n",
       "      <td>2014-07-03 01:34:00 UTC</td>\n",
       "      <td>-73.968087</td>\n",
       "      <td>40.755140</td>\n",
       "      <td>-73.952622</td>\n",
       "      <td>40.823312</td>\n",
       "      <td>5.0</td>\n",
       "    </tr>\n",
       "    <tr>\n",
       "      <th>498</th>\n",
       "      <td>NaN</td>\n",
       "      <td>2009-03-16 04:47:17 UTC</td>\n",
       "      <td>0.000000</td>\n",
       "      <td>0.000000</td>\n",
       "      <td>0.000000</td>\n",
       "      <td>0.000000</td>\n",
       "      <td>1.0</td>\n",
       "    </tr>\n",
       "    <tr>\n",
       "      <th>667</th>\n",
       "      <td>NaN</td>\n",
       "      <td>2014-06-25 23:08:56 UTC</td>\n",
       "      <td>-73.977865</td>\n",
       "      <td>40.784274</td>\n",
       "      <td>-73.962362</td>\n",
       "      <td>40.767125</td>\n",
       "      <td>2.0</td>\n",
       "    </tr>\n",
       "    <tr>\n",
       "      <th>703</th>\n",
       "      <td>NaN</td>\n",
       "      <td>2012-05-21 11:37:42 UTC</td>\n",
       "      <td>-73.992170</td>\n",
       "      <td>40.764320</td>\n",
       "      <td>-73.966214</td>\n",
       "      <td>40.762562</td>\n",
       "      <td>1.0</td>\n",
       "    </tr>\n",
       "    <tr>\n",
       "      <th>746</th>\n",
       "      <td>NaN</td>\n",
       "      <td>2013-01-31 22:14:00 UTC</td>\n",
       "      <td>-73.985247</td>\n",
       "      <td>40.727532</td>\n",
       "      <td>-73.979572</td>\n",
       "      <td>40.735312</td>\n",
       "      <td>1.0</td>\n",
       "    </tr>\n",
       "    <tr>\n",
       "      <th>836</th>\n",
       "      <td>NaN</td>\n",
       "      <td>2012-03-16 07:52:00 UTC</td>\n",
       "      <td>-73.960797</td>\n",
       "      <td>40.818232</td>\n",
       "      <td>-73.953255</td>\n",
       "      <td>40.810163</td>\n",
       "      <td>1.0</td>\n",
       "    </tr>\n",
       "    <tr>\n",
       "      <th>840</th>\n",
       "      <td>NaN</td>\n",
       "      <td>2014-10-22 08:12:00 UTC</td>\n",
       "      <td>-73.996860</td>\n",
       "      <td>40.723110</td>\n",
       "      <td>-74.005370</td>\n",
       "      <td>40.732350</td>\n",
       "      <td>1.0</td>\n",
       "    </tr>\n",
       "    <tr>\n",
       "      <th>913</th>\n",
       "      <td>NaN</td>\n",
       "      <td>2014-04-08 14:11:00 UTC</td>\n",
       "      <td>-73.966193</td>\n",
       "      <td>40.758177</td>\n",
       "      <td>-73.991642</td>\n",
       "      <td>40.749080</td>\n",
       "      <td>1.0</td>\n",
       "    </tr>\n",
       "    <tr>\n",
       "      <th>1123</th>\n",
       "      <td>NaN</td>\n",
       "      <td>2009-09-22 19:01:01 UTC</td>\n",
       "      <td>-73.979610</td>\n",
       "      <td>40.771326</td>\n",
       "      <td>-73.975764</td>\n",
       "      <td>40.781965</td>\n",
       "      <td>1.0</td>\n",
       "    </tr>\n",
       "    <tr>\n",
       "      <th>1574</th>\n",
       "      <td>NaN</td>\n",
       "      <td>2009-03-30 01:26:23 UTC</td>\n",
       "      <td>-73.975024</td>\n",
       "      <td>40.755583</td>\n",
       "      <td>-73.968572</td>\n",
       "      <td>40.761105</td>\n",
       "      <td>1.0</td>\n",
       "    </tr>\n",
       "    <tr>\n",
       "      <th>1628</th>\n",
       "      <td>NaN</td>\n",
       "      <td>2015-02-18 08:09:48 UTC</td>\n",
       "      <td>-73.960068</td>\n",
       "      <td>40.770470</td>\n",
       "      <td>-73.865639</td>\n",
       "      <td>40.770912</td>\n",
       "      <td>1.0</td>\n",
       "    </tr>\n",
       "    <tr>\n",
       "      <th>1712</th>\n",
       "      <td>NaN</td>\n",
       "      <td>2010-05-01 14:35:52 UTC</td>\n",
       "      <td>-74.012721</td>\n",
       "      <td>40.708011</td>\n",
       "      <td>-74.003275</td>\n",
       "      <td>40.732985</td>\n",
       "      <td>1.0</td>\n",
       "    </tr>\n",
       "    <tr>\n",
       "      <th>2412</th>\n",
       "      <td>NaN</td>\n",
       "      <td>2014-04-30 15:08:11 UTC</td>\n",
       "      <td>-73.973644</td>\n",
       "      <td>40.794729</td>\n",
       "      <td>-73.977351</td>\n",
       "      <td>40.789741</td>\n",
       "      <td>3.0</td>\n",
       "    </tr>\n",
       "    <tr>\n",
       "      <th>2458</th>\n",
       "      <td>NaN</td>\n",
       "      <td>2012-10-14 20:11:00 UTC</td>\n",
       "      <td>-73.978177</td>\n",
       "      <td>40.778080</td>\n",
       "      <td>-73.987883</td>\n",
       "      <td>40.764717</td>\n",
       "      <td>2.0</td>\n",
       "    </tr>\n",
       "    <tr>\n",
       "      <th>8178</th>\n",
       "      <td>NaN</td>\n",
       "      <td>2015-03-10 06:19:43 UTC</td>\n",
       "      <td>-73.979927</td>\n",
       "      <td>40.735802</td>\n",
       "      <td>-74.011360</td>\n",
       "      <td>40.713360</td>\n",
       "      <td>1.0</td>\n",
       "    </tr>\n",
       "    <tr>\n",
       "      <th>8226</th>\n",
       "      <td>NaN</td>\n",
       "      <td>2011-08-13 01:33:02 UTC</td>\n",
       "      <td>-74.007081</td>\n",
       "      <td>40.741155</td>\n",
       "      <td>-73.835494</td>\n",
       "      <td>40.703821</td>\n",
       "      <td>4.0</td>\n",
       "    </tr>\n",
       "  </tbody>\n",
       "</table>\n",
       "</div>"
      ],
      "text/plain": [
       "      fare_amount          pickup_datetime  pickup_longitude  pickup_latitude  \\\n",
       "8             NaN  2012-12-03 13:10:00 UTC        -74.006462        40.726713   \n",
       "26            NaN  2011-02-07 20:01:00 UTC          0.000000         0.000000   \n",
       "69            NaN  2015-05-12 23:51:42 UTC        -73.954796        40.779335   \n",
       "126           NaN  2013-09-17 04:22:00 UTC        -73.987210        40.729325   \n",
       "168           NaN  2009-01-16 21:10:00 UTC        -73.994143        40.751193   \n",
       "240           NaN  2009-06-20 19:28:37 UTC        -73.979345        40.776630   \n",
       "305           NaN  2014-07-11 05:07:00 UTC        -73.951660        40.772657   \n",
       "350           NaN  2014-09-05 15:23:00 UTC        -73.968260        40.765140   \n",
       "413           NaN  2013-09-12 11:32:00 UTC        -73.982060        40.772705   \n",
       "455           NaN  2014-07-03 01:34:00 UTC        -73.968087        40.755140   \n",
       "498           NaN  2009-03-16 04:47:17 UTC          0.000000         0.000000   \n",
       "667           NaN  2014-06-25 23:08:56 UTC        -73.977865        40.784274   \n",
       "703           NaN  2012-05-21 11:37:42 UTC        -73.992170        40.764320   \n",
       "746           NaN  2013-01-31 22:14:00 UTC        -73.985247        40.727532   \n",
       "836           NaN  2012-03-16 07:52:00 UTC        -73.960797        40.818232   \n",
       "840           NaN  2014-10-22 08:12:00 UTC        -73.996860        40.723110   \n",
       "913           NaN  2014-04-08 14:11:00 UTC        -73.966193        40.758177   \n",
       "1123          NaN  2009-09-22 19:01:01 UTC        -73.979610        40.771326   \n",
       "1574          NaN  2009-03-30 01:26:23 UTC        -73.975024        40.755583   \n",
       "1628          NaN  2015-02-18 08:09:48 UTC        -73.960068        40.770470   \n",
       "1712          NaN  2010-05-01 14:35:52 UTC        -74.012721        40.708011   \n",
       "2412          NaN  2014-04-30 15:08:11 UTC        -73.973644        40.794729   \n",
       "2458          NaN  2012-10-14 20:11:00 UTC        -73.978177        40.778080   \n",
       "8178          NaN  2015-03-10 06:19:43 UTC        -73.979927        40.735802   \n",
       "8226          NaN  2011-08-13 01:33:02 UTC        -74.007081        40.741155   \n",
       "\n",
       "      dropoff_longitude  dropoff_latitude  passenger_count  \n",
       "8            -73.993078         40.731628              1.0  \n",
       "26             0.000000          0.000000              1.0  \n",
       "69           -73.944931         40.780087              1.0  \n",
       "126          -73.931985         40.697207              1.0  \n",
       "168          -73.988897         40.759742              1.0  \n",
       "240          -73.973842         40.757074              1.0  \n",
       "305          -74.010583         40.721405              2.0  \n",
       "350          -73.961115         40.774882              6.0  \n",
       "413          -73.956213         40.771777             55.0  \n",
       "455          -73.952622         40.823312              5.0  \n",
       "498            0.000000          0.000000              1.0  \n",
       "667          -73.962362         40.767125              2.0  \n",
       "703          -73.966214         40.762562              1.0  \n",
       "746          -73.979572         40.735312              1.0  \n",
       "836          -73.953255         40.810163              1.0  \n",
       "840          -74.005370         40.732350              1.0  \n",
       "913          -73.991642         40.749080              1.0  \n",
       "1123         -73.975764         40.781965              1.0  \n",
       "1574         -73.968572         40.761105              1.0  \n",
       "1628         -73.865639         40.770912              1.0  \n",
       "1712         -74.003275         40.732985              1.0  \n",
       "2412         -73.977351         40.789741              3.0  \n",
       "2458         -73.987883         40.764717              2.0  \n",
       "8178         -74.011360         40.713360              1.0  \n",
       "8226         -73.835494         40.703821              4.0  "
      ]
     },
     "execution_count": 13,
     "metadata": {},
     "output_type": "execute_result"
    }
   ],
   "source": [
    "train[train['fare_amount'].isnull()]"
   ]
  },
  {
   "cell_type": "code",
   "execution_count": 14,
   "metadata": {
    "scrolled": true
   },
   "outputs": [
    {
     "data": {
      "text/html": [
       "<div>\n",
       "<style scoped>\n",
       "    .dataframe tbody tr th:only-of-type {\n",
       "        vertical-align: middle;\n",
       "    }\n",
       "\n",
       "    .dataframe tbody tr th {\n",
       "        vertical-align: top;\n",
       "    }\n",
       "\n",
       "    .dataframe thead th {\n",
       "        text-align: right;\n",
       "    }\n",
       "</style>\n",
       "<table border=\"1\" class=\"dataframe\">\n",
       "  <thead>\n",
       "    <tr style=\"text-align: right;\">\n",
       "      <th></th>\n",
       "      <th>fare_amount</th>\n",
       "      <th>pickup_datetime</th>\n",
       "      <th>pickup_longitude</th>\n",
       "      <th>pickup_latitude</th>\n",
       "      <th>dropoff_longitude</th>\n",
       "      <th>dropoff_latitude</th>\n",
       "      <th>passenger_count</th>\n",
       "    </tr>\n",
       "  </thead>\n",
       "  <tbody>\n",
       "    <tr>\n",
       "      <th>31</th>\n",
       "      <td>22.54</td>\n",
       "      <td>2015-06-21 21:46:34 UTC</td>\n",
       "      <td>-74.010483</td>\n",
       "      <td>40.717667</td>\n",
       "      <td>-73.985771</td>\n",
       "      <td>40.660366</td>\n",
       "      <td>NaN</td>\n",
       "    </tr>\n",
       "    <tr>\n",
       "      <th>64</th>\n",
       "      <td>7.30</td>\n",
       "      <td>2011-11-07 10:47:40 UTC</td>\n",
       "      <td>-74.003919</td>\n",
       "      <td>40.753019</td>\n",
       "      <td>-73.992368</td>\n",
       "      <td>40.735362</td>\n",
       "      <td>NaN</td>\n",
       "    </tr>\n",
       "    <tr>\n",
       "      <th>82</th>\n",
       "      <td>8.50</td>\n",
       "      <td>2013-06-14 08:27:43 UTC</td>\n",
       "      <td>-73.953710</td>\n",
       "      <td>40.790813</td>\n",
       "      <td>-73.957015</td>\n",
       "      <td>40.777676</td>\n",
       "      <td>NaN</td>\n",
       "    </tr>\n",
       "    <tr>\n",
       "      <th>97</th>\n",
       "      <td>9.00</td>\n",
       "      <td>2014-12-07 12:26:00 UTC</td>\n",
       "      <td>-73.984977</td>\n",
       "      <td>40.752122</td>\n",
       "      <td>-74.000925</td>\n",
       "      <td>40.757982</td>\n",
       "      <td>NaN</td>\n",
       "    </tr>\n",
       "    <tr>\n",
       "      <th>112</th>\n",
       "      <td>35.00</td>\n",
       "      <td>2012-12-06 18:05:00 UTC</td>\n",
       "      <td>-73.953310</td>\n",
       "      <td>40.787772</td>\n",
       "      <td>-73.944352</td>\n",
       "      <td>40.719772</td>\n",
       "      <td>NaN</td>\n",
       "    </tr>\n",
       "    <tr>\n",
       "      <th>133</th>\n",
       "      <td>10.50</td>\n",
       "      <td>2012-02-03 13:46:35 UTC</td>\n",
       "      <td>-73.988006</td>\n",
       "      <td>40.737723</td>\n",
       "      <td>-73.965699</td>\n",
       "      <td>40.766095</td>\n",
       "      <td>NaN</td>\n",
       "    </tr>\n",
       "    <tr>\n",
       "      <th>150</th>\n",
       "      <td>17.30</td>\n",
       "      <td>2010-05-17 07:44:00 UTC</td>\n",
       "      <td>-73.950972</td>\n",
       "      <td>40.785633</td>\n",
       "      <td>-74.010240</td>\n",
       "      <td>40.720302</td>\n",
       "      <td>NaN</td>\n",
       "    </tr>\n",
       "    <tr>\n",
       "      <th>174</th>\n",
       "      <td>10.50</td>\n",
       "      <td>2015-02-27 07:50:56 UTC</td>\n",
       "      <td>-73.944023</td>\n",
       "      <td>40.775959</td>\n",
       "      <td>-73.955048</td>\n",
       "      <td>40.785080</td>\n",
       "      <td>NaN</td>\n",
       "    </tr>\n",
       "    <tr>\n",
       "      <th>195</th>\n",
       "      <td>16.00</td>\n",
       "      <td>2014-02-05 00:28:00 UTC</td>\n",
       "      <td>-73.996652</td>\n",
       "      <td>40.744495</td>\n",
       "      <td>-73.980253</td>\n",
       "      <td>40.737635</td>\n",
       "      <td>NaN</td>\n",
       "    </tr>\n",
       "    <tr>\n",
       "      <th>203</th>\n",
       "      <td>11.30</td>\n",
       "      <td>2012-04-25 20:39:00 UTC</td>\n",
       "      <td>-73.993973</td>\n",
       "      <td>40.746577</td>\n",
       "      <td>-74.005060</td>\n",
       "      <td>40.709365</td>\n",
       "      <td>NaN</td>\n",
       "    </tr>\n",
       "    <tr>\n",
       "      <th>218</th>\n",
       "      <td>7.30</td>\n",
       "      <td>2011-02-27 14:45:00 UTC</td>\n",
       "      <td>-73.983758</td>\n",
       "      <td>40.746430</td>\n",
       "      <td>-73.963557</td>\n",
       "      <td>40.774088</td>\n",
       "      <td>NaN</td>\n",
       "    </tr>\n",
       "    <tr>\n",
       "      <th>446</th>\n",
       "      <td>13.30</td>\n",
       "      <td>2010-02-26 23:56:00 UTC</td>\n",
       "      <td>-73.997710</td>\n",
       "      <td>40.756485</td>\n",
       "      <td>-73.987518</td>\n",
       "      <td>40.721337</td>\n",
       "      <td>NaN</td>\n",
       "    </tr>\n",
       "    <tr>\n",
       "      <th>467</th>\n",
       "      <td>16.10</td>\n",
       "      <td>2010-08-03 14:58:00 UTC</td>\n",
       "      <td>-74.004610</td>\n",
       "      <td>40.716322</td>\n",
       "      <td>-74.003732</td>\n",
       "      <td>40.658428</td>\n",
       "      <td>NaN</td>\n",
       "    </tr>\n",
       "    <tr>\n",
       "      <th>494</th>\n",
       "      <td>5.50</td>\n",
       "      <td>2015-05-16 11:33:57 UTC</td>\n",
       "      <td>-73.973618</td>\n",
       "      <td>40.784641</td>\n",
       "      <td>-73.970451</td>\n",
       "      <td>40.796120</td>\n",
       "      <td>NaN</td>\n",
       "    </tr>\n",
       "    <tr>\n",
       "      <th>533</th>\n",
       "      <td>6.10</td>\n",
       "      <td>2010-10-23 12:11:31 UTC</td>\n",
       "      <td>-73.993656</td>\n",
       "      <td>40.747350</td>\n",
       "      <td>-73.982864</td>\n",
       "      <td>40.742636</td>\n",
       "      <td>NaN</td>\n",
       "    </tr>\n",
       "    <tr>\n",
       "      <th>534</th>\n",
       "      <td>5.70</td>\n",
       "      <td>2012-03-15 23:48:00 UTC</td>\n",
       "      <td>-73.954327</td>\n",
       "      <td>40.764005</td>\n",
       "      <td>-73.956155</td>\n",
       "      <td>40.775967</td>\n",
       "      <td>NaN</td>\n",
       "    </tr>\n",
       "    <tr>\n",
       "      <th>572</th>\n",
       "      <td>4.50</td>\n",
       "      <td>2009-01-06 22:30:00 UTC</td>\n",
       "      <td>-73.998965</td>\n",
       "      <td>40.738310</td>\n",
       "      <td>-73.997162</td>\n",
       "      <td>40.747027</td>\n",
       "      <td>NaN</td>\n",
       "    </tr>\n",
       "    <tr>\n",
       "      <th>573</th>\n",
       "      <td>4.90</td>\n",
       "      <td>2009-12-31 22:27:00 UTC</td>\n",
       "      <td>-73.996958</td>\n",
       "      <td>40.722988</td>\n",
       "      <td>-74.005807</td>\n",
       "      <td>40.726383</td>\n",
       "      <td>NaN</td>\n",
       "    </tr>\n",
       "    <tr>\n",
       "      <th>574</th>\n",
       "      <td>7.30</td>\n",
       "      <td>2010-07-02 16:58:45 UTC</td>\n",
       "      <td>-73.978321</td>\n",
       "      <td>40.753844</td>\n",
       "      <td>-73.982309</td>\n",
       "      <td>40.777037</td>\n",
       "      <td>NaN</td>\n",
       "    </tr>\n",
       "    <tr>\n",
       "      <th>575</th>\n",
       "      <td>5.30</td>\n",
       "      <td>2011-02-02 07:52:21 UTC</td>\n",
       "      <td>-74.006924</td>\n",
       "      <td>40.703967</td>\n",
       "      <td>-74.012995</td>\n",
       "      <td>40.705742</td>\n",
       "      <td>NaN</td>\n",
       "    </tr>\n",
       "    <tr>\n",
       "      <th>576</th>\n",
       "      <td>14.10</td>\n",
       "      <td>2011-02-04 18:43:06 UTC</td>\n",
       "      <td>-74.003605</td>\n",
       "      <td>40.720436</td>\n",
       "      <td>-73.985766</td>\n",
       "      <td>40.759837</td>\n",
       "      <td>NaN</td>\n",
       "    </tr>\n",
       "    <tr>\n",
       "      <th>577</th>\n",
       "      <td>6.50</td>\n",
       "      <td>2014-06-02 08:31:14 UTC</td>\n",
       "      <td>-73.966418</td>\n",
       "      <td>40.770348</td>\n",
       "      <td>-73.955528</td>\n",
       "      <td>40.765830</td>\n",
       "      <td>NaN</td>\n",
       "    </tr>\n",
       "    <tr>\n",
       "      <th>626</th>\n",
       "      <td>11.30</td>\n",
       "      <td>2012-04-30 19:19:00 UTC</td>\n",
       "      <td>-73.969548</td>\n",
       "      <td>40.800192</td>\n",
       "      <td>-73.979993</td>\n",
       "      <td>40.764630</td>\n",
       "      <td>NaN</td>\n",
       "    </tr>\n",
       "    <tr>\n",
       "      <th>662</th>\n",
       "      <td>10.50</td>\n",
       "      <td>2011-06-30 08:08:14 UTC</td>\n",
       "      <td>-73.959055</td>\n",
       "      <td>40.814999</td>\n",
       "      <td>-73.957878</td>\n",
       "      <td>40.778607</td>\n",
       "      <td>NaN</td>\n",
       "    </tr>\n",
       "    <tr>\n",
       "      <th>698</th>\n",
       "      <td>11.00</td>\n",
       "      <td>2013-05-15 16:56:45 UTC</td>\n",
       "      <td>-73.979658</td>\n",
       "      <td>40.758764</td>\n",
       "      <td>-73.956570</td>\n",
       "      <td>40.768108</td>\n",
       "      <td>NaN</td>\n",
       "    </tr>\n",
       "    <tr>\n",
       "      <th>734</th>\n",
       "      <td>16.50</td>\n",
       "      <td>2012-09-10 14:39:00 UTC</td>\n",
       "      <td>-73.988522</td>\n",
       "      <td>40.737147</td>\n",
       "      <td>-73.986408</td>\n",
       "      <td>40.776832</td>\n",
       "      <td>NaN</td>\n",
       "    </tr>\n",
       "    <tr>\n",
       "      <th>773</th>\n",
       "      <td>5.50</td>\n",
       "      <td>2013-10-15 07:48:17 UTC</td>\n",
       "      <td>-73.989863</td>\n",
       "      <td>40.734053</td>\n",
       "      <td>-73.979853</td>\n",
       "      <td>40.744464</td>\n",
       "      <td>NaN</td>\n",
       "    </tr>\n",
       "    <tr>\n",
       "      <th>788</th>\n",
       "      <td>6.00</td>\n",
       "      <td>2014-03-12 13:13:14 UTC</td>\n",
       "      <td>-73.977032</td>\n",
       "      <td>40.750545</td>\n",
       "      <td>-73.990488</td>\n",
       "      <td>40.737205</td>\n",
       "      <td>NaN</td>\n",
       "    </tr>\n",
       "    <tr>\n",
       "      <th>842</th>\n",
       "      <td>9.50</td>\n",
       "      <td>2013-02-14 19:35:44 UTC</td>\n",
       "      <td>-74.005739</td>\n",
       "      <td>40.740252</td>\n",
       "      <td>-74.011023</td>\n",
       "      <td>40.716267</td>\n",
       "      <td>NaN</td>\n",
       "    </tr>\n",
       "    <tr>\n",
       "      <th>899</th>\n",
       "      <td>4.90</td>\n",
       "      <td>2011-03-16 17:05:00 UTC</td>\n",
       "      <td>-73.964922</td>\n",
       "      <td>40.764382</td>\n",
       "      <td>-73.954068</td>\n",
       "      <td>40.778877</td>\n",
       "      <td>NaN</td>\n",
       "    </tr>\n",
       "    <tr>\n",
       "      <th>941</th>\n",
       "      <td>12.90</td>\n",
       "      <td>2010-07-11 13:32:00 UTC</td>\n",
       "      <td>-73.972740</td>\n",
       "      <td>40.753488</td>\n",
       "      <td>-74.006575</td>\n",
       "      <td>40.741452</td>\n",
       "      <td>NaN</td>\n",
       "    </tr>\n",
       "    <tr>\n",
       "      <th>1361</th>\n",
       "      <td>12.50</td>\n",
       "      <td>2011-01-18 15:14:00 UTC</td>\n",
       "      <td>-73.991753</td>\n",
       "      <td>40.731875</td>\n",
       "      <td>-73.967462</td>\n",
       "      <td>40.760708</td>\n",
       "      <td>NaN</td>\n",
       "    </tr>\n",
       "    <tr>\n",
       "      <th>1399</th>\n",
       "      <td>6.90</td>\n",
       "      <td>2010-01-27 07:08:00 UTC</td>\n",
       "      <td>-73.998760</td>\n",
       "      <td>40.735550</td>\n",
       "      <td>-73.985808</td>\n",
       "      <td>40.753593</td>\n",
       "      <td>NaN</td>\n",
       "    </tr>\n",
       "    <tr>\n",
       "      <th>1400</th>\n",
       "      <td>7.00</td>\n",
       "      <td>2013-05-07 01:11:53 UTC</td>\n",
       "      <td>-74.007580</td>\n",
       "      <td>40.743351</td>\n",
       "      <td>-73.989144</td>\n",
       "      <td>40.744682</td>\n",
       "      <td>NaN</td>\n",
       "    </tr>\n",
       "    <tr>\n",
       "      <th>1459</th>\n",
       "      <td>5.70</td>\n",
       "      <td>2009-05-06 19:21:21 UTC</td>\n",
       "      <td>-73.974764</td>\n",
       "      <td>40.756522</td>\n",
       "      <td>-73.983534</td>\n",
       "      <td>40.762873</td>\n",
       "      <td>NaN</td>\n",
       "    </tr>\n",
       "    <tr>\n",
       "      <th>1748</th>\n",
       "      <td>7.50</td>\n",
       "      <td>2012-12-12 07:06:13 UTC</td>\n",
       "      <td>-73.991310</td>\n",
       "      <td>40.749765</td>\n",
       "      <td>-73.982617</td>\n",
       "      <td>40.758072</td>\n",
       "      <td>NaN</td>\n",
       "    </tr>\n",
       "    <tr>\n",
       "      <th>1790</th>\n",
       "      <td>6.00</td>\n",
       "      <td>2014-08-06 13:07:00 UTC</td>\n",
       "      <td>-73.997752</td>\n",
       "      <td>40.725990</td>\n",
       "      <td>-73.998160</td>\n",
       "      <td>40.735422</td>\n",
       "      <td>NaN</td>\n",
       "    </tr>\n",
       "    <tr>\n",
       "      <th>1851</th>\n",
       "      <td>6.10</td>\n",
       "      <td>2012-02-28 15:45:00 UTC</td>\n",
       "      <td>-73.971615</td>\n",
       "      <td>40.757065</td>\n",
       "      <td>-73.969575</td>\n",
       "      <td>40.764625</td>\n",
       "      <td>NaN</td>\n",
       "    </tr>\n",
       "    <tr>\n",
       "      <th>1921</th>\n",
       "      <td>15.00</td>\n",
       "      <td>2013-08-26 17:26:56 UTC</td>\n",
       "      <td>-74.010847</td>\n",
       "      <td>40.709710</td>\n",
       "      <td>-73.989897</td>\n",
       "      <td>40.749737</td>\n",
       "      <td>NaN</td>\n",
       "    </tr>\n",
       "    <tr>\n",
       "      <th>1984</th>\n",
       "      <td>6.50</td>\n",
       "      <td>2014-05-23 23:45:00 UTC</td>\n",
       "      <td>-73.955408</td>\n",
       "      <td>40.819957</td>\n",
       "      <td>-73.949652</td>\n",
       "      <td>40.809435</td>\n",
       "      <td>NaN</td>\n",
       "    </tr>\n",
       "    <tr>\n",
       "      <th>1987</th>\n",
       "      <td>10.50</td>\n",
       "      <td>2013-04-15 16:27:09 UTC</td>\n",
       "      <td>-73.972426</td>\n",
       "      <td>40.793910</td>\n",
       "      <td>-73.983174</td>\n",
       "      <td>40.762330</td>\n",
       "      <td>NaN</td>\n",
       "    </tr>\n",
       "    <tr>\n",
       "      <th>2104</th>\n",
       "      <td>5.70</td>\n",
       "      <td>2009-08-27 19:34:33 UTC</td>\n",
       "      <td>-73.981941</td>\n",
       "      <td>40.767557</td>\n",
       "      <td>-73.987830</td>\n",
       "      <td>40.761288</td>\n",
       "      <td>NaN</td>\n",
       "    </tr>\n",
       "    <tr>\n",
       "      <th>2230</th>\n",
       "      <td>14.50</td>\n",
       "      <td>2014-07-18 20:09:41 UTC</td>\n",
       "      <td>-73.993286</td>\n",
       "      <td>40.767728</td>\n",
       "      <td>-74.001502</td>\n",
       "      <td>40.722636</td>\n",
       "      <td>NaN</td>\n",
       "    </tr>\n",
       "    <tr>\n",
       "      <th>2378</th>\n",
       "      <td>9.00</td>\n",
       "      <td>2013-12-18 13:42:23 UTC</td>\n",
       "      <td>-73.973804</td>\n",
       "      <td>40.757712</td>\n",
       "      <td>-73.986007</td>\n",
       "      <td>40.741275</td>\n",
       "      <td>NaN</td>\n",
       "    </tr>\n",
       "    <tr>\n",
       "      <th>7787</th>\n",
       "      <td>4.00</td>\n",
       "      <td>2013-11-16 07:25:20 UTC</td>\n",
       "      <td>-73.977751</td>\n",
       "      <td>40.742508</td>\n",
       "      <td>-73.977063</td>\n",
       "      <td>40.736760</td>\n",
       "      <td>NaN</td>\n",
       "    </tr>\n",
       "    <tr>\n",
       "      <th>7805</th>\n",
       "      <td>5.30</td>\n",
       "      <td>2011-09-19 23:58:37 UTC</td>\n",
       "      <td>-73.988380</td>\n",
       "      <td>40.774687</td>\n",
       "      <td>-73.993982</td>\n",
       "      <td>40.760690</td>\n",
       "      <td>NaN</td>\n",
       "    </tr>\n",
       "    <tr>\n",
       "      <th>7847</th>\n",
       "      <td>9.50</td>\n",
       "      <td>2013-09-28 14:37:00 UTC</td>\n",
       "      <td>-73.986723</td>\n",
       "      <td>40.725725</td>\n",
       "      <td>-73.959888</td>\n",
       "      <td>40.762547</td>\n",
       "      <td>NaN</td>\n",
       "    </tr>\n",
       "    <tr>\n",
       "      <th>7892</th>\n",
       "      <td>8.50</td>\n",
       "      <td>2015-05-03 16:45:10 UTC</td>\n",
       "      <td>-74.001312</td>\n",
       "      <td>40.751938</td>\n",
       "      <td>-73.981697</td>\n",
       "      <td>40.763779</td>\n",
       "      <td>NaN</td>\n",
       "    </tr>\n",
       "    <tr>\n",
       "      <th>7937</th>\n",
       "      <td>17.50</td>\n",
       "      <td>2013-07-13 17:55:23 UTC</td>\n",
       "      <td>-74.010294</td>\n",
       "      <td>40.708637</td>\n",
       "      <td>-73.975516</td>\n",
       "      <td>40.753449</td>\n",
       "      <td>NaN</td>\n",
       "    </tr>\n",
       "    <tr>\n",
       "      <th>8007</th>\n",
       "      <td>7.70</td>\n",
       "      <td>2012-01-22 04:06:10 UTC</td>\n",
       "      <td>-73.992000</td>\n",
       "      <td>40.744255</td>\n",
       "      <td>-74.002782</td>\n",
       "      <td>40.730813</td>\n",
       "      <td>NaN</td>\n",
       "    </tr>\n",
       "    <tr>\n",
       "      <th>8076</th>\n",
       "      <td>6.90</td>\n",
       "      <td>2011-06-06 12:25:00 UTC</td>\n",
       "      <td>-73.976377</td>\n",
       "      <td>40.755685</td>\n",
       "      <td>-73.977942</td>\n",
       "      <td>40.777482</td>\n",
       "      <td>NaN</td>\n",
       "    </tr>\n",
       "    <tr>\n",
       "      <th>8139</th>\n",
       "      <td>4.50</td>\n",
       "      <td>2009-01-18 22:18:00 UTC</td>\n",
       "      <td>-73.989027</td>\n",
       "      <td>40.776792</td>\n",
       "      <td>-73.984375</td>\n",
       "      <td>40.783190</td>\n",
       "      <td>NaN</td>\n",
       "    </tr>\n",
       "    <tr>\n",
       "      <th>8259</th>\n",
       "      <td>57.54</td>\n",
       "      <td>2015-05-03 16:49:52 UTC</td>\n",
       "      <td>-73.781990</td>\n",
       "      <td>40.644798</td>\n",
       "      <td>-73.965096</td>\n",
       "      <td>40.803551</td>\n",
       "      <td>NaN</td>\n",
       "    </tr>\n",
       "    <tr>\n",
       "      <th>8306</th>\n",
       "      <td>6.90</td>\n",
       "      <td>2010-12-12 11:43:16 UTC</td>\n",
       "      <td>-73.983912</td>\n",
       "      <td>40.756814</td>\n",
       "      <td>-73.979796</td>\n",
       "      <td>40.765198</td>\n",
       "      <td>NaN</td>\n",
       "    </tr>\n",
       "    <tr>\n",
       "      <th>16066</th>\n",
       "      <td>8.50</td>\n",
       "      <td>2011-12-14 06:24:33 UTC</td>\n",
       "      <td>-74.002111</td>\n",
       "      <td>40.729755</td>\n",
       "      <td>-73.983877</td>\n",
       "      <td>40.761975</td>\n",
       "      <td>NaN</td>\n",
       "    </tr>\n",
       "  </tbody>\n",
       "</table>\n",
       "</div>"
      ],
      "text/plain": [
       "       fare_amount          pickup_datetime  pickup_longitude  \\\n",
       "31           22.54  2015-06-21 21:46:34 UTC        -74.010483   \n",
       "64            7.30  2011-11-07 10:47:40 UTC        -74.003919   \n",
       "82            8.50  2013-06-14 08:27:43 UTC        -73.953710   \n",
       "97            9.00  2014-12-07 12:26:00 UTC        -73.984977   \n",
       "112          35.00  2012-12-06 18:05:00 UTC        -73.953310   \n",
       "133          10.50  2012-02-03 13:46:35 UTC        -73.988006   \n",
       "150          17.30  2010-05-17 07:44:00 UTC        -73.950972   \n",
       "174          10.50  2015-02-27 07:50:56 UTC        -73.944023   \n",
       "195          16.00  2014-02-05 00:28:00 UTC        -73.996652   \n",
       "203          11.30  2012-04-25 20:39:00 UTC        -73.993973   \n",
       "218           7.30  2011-02-27 14:45:00 UTC        -73.983758   \n",
       "446          13.30  2010-02-26 23:56:00 UTC        -73.997710   \n",
       "467          16.10  2010-08-03 14:58:00 UTC        -74.004610   \n",
       "494           5.50  2015-05-16 11:33:57 UTC        -73.973618   \n",
       "533           6.10  2010-10-23 12:11:31 UTC        -73.993656   \n",
       "534           5.70  2012-03-15 23:48:00 UTC        -73.954327   \n",
       "572           4.50  2009-01-06 22:30:00 UTC        -73.998965   \n",
       "573           4.90  2009-12-31 22:27:00 UTC        -73.996958   \n",
       "574           7.30  2010-07-02 16:58:45 UTC        -73.978321   \n",
       "575           5.30  2011-02-02 07:52:21 UTC        -74.006924   \n",
       "576          14.10  2011-02-04 18:43:06 UTC        -74.003605   \n",
       "577           6.50  2014-06-02 08:31:14 UTC        -73.966418   \n",
       "626          11.30  2012-04-30 19:19:00 UTC        -73.969548   \n",
       "662          10.50  2011-06-30 08:08:14 UTC        -73.959055   \n",
       "698          11.00  2013-05-15 16:56:45 UTC        -73.979658   \n",
       "734          16.50  2012-09-10 14:39:00 UTC        -73.988522   \n",
       "773           5.50  2013-10-15 07:48:17 UTC        -73.989863   \n",
       "788           6.00  2014-03-12 13:13:14 UTC        -73.977032   \n",
       "842           9.50  2013-02-14 19:35:44 UTC        -74.005739   \n",
       "899           4.90  2011-03-16 17:05:00 UTC        -73.964922   \n",
       "941          12.90  2010-07-11 13:32:00 UTC        -73.972740   \n",
       "1361         12.50  2011-01-18 15:14:00 UTC        -73.991753   \n",
       "1399          6.90  2010-01-27 07:08:00 UTC        -73.998760   \n",
       "1400          7.00  2013-05-07 01:11:53 UTC        -74.007580   \n",
       "1459          5.70  2009-05-06 19:21:21 UTC        -73.974764   \n",
       "1748          7.50  2012-12-12 07:06:13 UTC        -73.991310   \n",
       "1790          6.00  2014-08-06 13:07:00 UTC        -73.997752   \n",
       "1851          6.10  2012-02-28 15:45:00 UTC        -73.971615   \n",
       "1921         15.00  2013-08-26 17:26:56 UTC        -74.010847   \n",
       "1984          6.50  2014-05-23 23:45:00 UTC        -73.955408   \n",
       "1987         10.50  2013-04-15 16:27:09 UTC        -73.972426   \n",
       "2104          5.70  2009-08-27 19:34:33 UTC        -73.981941   \n",
       "2230         14.50  2014-07-18 20:09:41 UTC        -73.993286   \n",
       "2378          9.00  2013-12-18 13:42:23 UTC        -73.973804   \n",
       "7787          4.00  2013-11-16 07:25:20 UTC        -73.977751   \n",
       "7805          5.30  2011-09-19 23:58:37 UTC        -73.988380   \n",
       "7847          9.50  2013-09-28 14:37:00 UTC        -73.986723   \n",
       "7892          8.50  2015-05-03 16:45:10 UTC        -74.001312   \n",
       "7937         17.50  2013-07-13 17:55:23 UTC        -74.010294   \n",
       "8007          7.70  2012-01-22 04:06:10 UTC        -73.992000   \n",
       "8076          6.90  2011-06-06 12:25:00 UTC        -73.976377   \n",
       "8139          4.50  2009-01-18 22:18:00 UTC        -73.989027   \n",
       "8259         57.54  2015-05-03 16:49:52 UTC        -73.781990   \n",
       "8306          6.90  2010-12-12 11:43:16 UTC        -73.983912   \n",
       "16066         8.50  2011-12-14 06:24:33 UTC        -74.002111   \n",
       "\n",
       "       pickup_latitude  dropoff_longitude  dropoff_latitude  passenger_count  \n",
       "31           40.717667         -73.985771         40.660366              NaN  \n",
       "64           40.753019         -73.992368         40.735362              NaN  \n",
       "82           40.790813         -73.957015         40.777676              NaN  \n",
       "97           40.752122         -74.000925         40.757982              NaN  \n",
       "112          40.787772         -73.944352         40.719772              NaN  \n",
       "133          40.737723         -73.965699         40.766095              NaN  \n",
       "150          40.785633         -74.010240         40.720302              NaN  \n",
       "174          40.775959         -73.955048         40.785080              NaN  \n",
       "195          40.744495         -73.980253         40.737635              NaN  \n",
       "203          40.746577         -74.005060         40.709365              NaN  \n",
       "218          40.746430         -73.963557         40.774088              NaN  \n",
       "446          40.756485         -73.987518         40.721337              NaN  \n",
       "467          40.716322         -74.003732         40.658428              NaN  \n",
       "494          40.784641         -73.970451         40.796120              NaN  \n",
       "533          40.747350         -73.982864         40.742636              NaN  \n",
       "534          40.764005         -73.956155         40.775967              NaN  \n",
       "572          40.738310         -73.997162         40.747027              NaN  \n",
       "573          40.722988         -74.005807         40.726383              NaN  \n",
       "574          40.753844         -73.982309         40.777037              NaN  \n",
       "575          40.703967         -74.012995         40.705742              NaN  \n",
       "576          40.720436         -73.985766         40.759837              NaN  \n",
       "577          40.770348         -73.955528         40.765830              NaN  \n",
       "626          40.800192         -73.979993         40.764630              NaN  \n",
       "662          40.814999         -73.957878         40.778607              NaN  \n",
       "698          40.758764         -73.956570         40.768108              NaN  \n",
       "734          40.737147         -73.986408         40.776832              NaN  \n",
       "773          40.734053         -73.979853         40.744464              NaN  \n",
       "788          40.750545         -73.990488         40.737205              NaN  \n",
       "842          40.740252         -74.011023         40.716267              NaN  \n",
       "899          40.764382         -73.954068         40.778877              NaN  \n",
       "941          40.753488         -74.006575         40.741452              NaN  \n",
       "1361         40.731875         -73.967462         40.760708              NaN  \n",
       "1399         40.735550         -73.985808         40.753593              NaN  \n",
       "1400         40.743351         -73.989144         40.744682              NaN  \n",
       "1459         40.756522         -73.983534         40.762873              NaN  \n",
       "1748         40.749765         -73.982617         40.758072              NaN  \n",
       "1790         40.725990         -73.998160         40.735422              NaN  \n",
       "1851         40.757065         -73.969575         40.764625              NaN  \n",
       "1921         40.709710         -73.989897         40.749737              NaN  \n",
       "1984         40.819957         -73.949652         40.809435              NaN  \n",
       "1987         40.793910         -73.983174         40.762330              NaN  \n",
       "2104         40.767557         -73.987830         40.761288              NaN  \n",
       "2230         40.767728         -74.001502         40.722636              NaN  \n",
       "2378         40.757712         -73.986007         40.741275              NaN  \n",
       "7787         40.742508         -73.977063         40.736760              NaN  \n",
       "7805         40.774687         -73.993982         40.760690              NaN  \n",
       "7847         40.725725         -73.959888         40.762547              NaN  \n",
       "7892         40.751938         -73.981697         40.763779              NaN  \n",
       "7937         40.708637         -73.975516         40.753449              NaN  \n",
       "8007         40.744255         -74.002782         40.730813              NaN  \n",
       "8076         40.755685         -73.977942         40.777482              NaN  \n",
       "8139         40.776792         -73.984375         40.783190              NaN  \n",
       "8259         40.644798         -73.965096         40.803551              NaN  \n",
       "8306         40.756814         -73.979796         40.765198              NaN  \n",
       "16066        40.729755         -73.983877         40.761975              NaN  "
      ]
     },
     "execution_count": 14,
     "metadata": {},
     "output_type": "execute_result"
    }
   ],
   "source": [
    "train[train['passenger_count'].isnull()]"
   ]
  },
  {
   "cell_type": "code",
   "execution_count": 15,
   "metadata": {
    "scrolled": true
   },
   "outputs": [
    {
     "data": {
      "text/html": [
       "<div>\n",
       "<style scoped>\n",
       "    .dataframe tbody tr th:only-of-type {\n",
       "        vertical-align: middle;\n",
       "    }\n",
       "\n",
       "    .dataframe tbody tr th {\n",
       "        vertical-align: top;\n",
       "    }\n",
       "\n",
       "    .dataframe thead th {\n",
       "        text-align: right;\n",
       "    }\n",
       "</style>\n",
       "<table border=\"1\" class=\"dataframe\">\n",
       "  <thead>\n",
       "    <tr style=\"text-align: right;\">\n",
       "      <th></th>\n",
       "      <th>fare_amount</th>\n",
       "      <th>pickup_datetime</th>\n",
       "      <th>pickup_longitude</th>\n",
       "      <th>pickup_latitude</th>\n",
       "      <th>dropoff_longitude</th>\n",
       "      <th>dropoff_latitude</th>\n",
       "      <th>passenger_count</th>\n",
       "    </tr>\n",
       "  </thead>\n",
       "  <tbody>\n",
       "    <tr>\n",
       "      <th>233</th>\n",
       "      <td>8.5</td>\n",
       "      <td>2011-07-24 01:14:35 UTC</td>\n",
       "      <td>0.000000</td>\n",
       "      <td>0.000000</td>\n",
       "      <td>0.000000</td>\n",
       "      <td>0.000000</td>\n",
       "      <td>236.0</td>\n",
       "    </tr>\n",
       "    <tr>\n",
       "      <th>263</th>\n",
       "      <td>4.9</td>\n",
       "      <td>2010-07-12 09:44:33 UTC</td>\n",
       "      <td>-73.983249</td>\n",
       "      <td>40.734655</td>\n",
       "      <td>-73.991278</td>\n",
       "      <td>40.738918</td>\n",
       "      <td>456.0</td>\n",
       "    </tr>\n",
       "    <tr>\n",
       "      <th>293</th>\n",
       "      <td>6.1</td>\n",
       "      <td>2011-01-18 23:48:00 UTC</td>\n",
       "      <td>-74.006642</td>\n",
       "      <td>40.738927</td>\n",
       "      <td>-74.010828</td>\n",
       "      <td>40.717907</td>\n",
       "      <td>5334.0</td>\n",
       "    </tr>\n",
       "    <tr>\n",
       "      <th>356</th>\n",
       "      <td>8.5</td>\n",
       "      <td>2013-06-18 10:27:05 UTC</td>\n",
       "      <td>-73.992108</td>\n",
       "      <td>40.764203</td>\n",
       "      <td>-73.973000</td>\n",
       "      <td>40.762695</td>\n",
       "      <td>535.0</td>\n",
       "    </tr>\n",
       "    <tr>\n",
       "      <th>386</th>\n",
       "      <td>8.1</td>\n",
       "      <td>2009-08-21 19:35:05 UTC</td>\n",
       "      <td>-73.960853</td>\n",
       "      <td>40.761557</td>\n",
       "      <td>-73.976335</td>\n",
       "      <td>40.748361</td>\n",
       "      <td>354.0</td>\n",
       "    </tr>\n",
       "    <tr>\n",
       "      <th>413</th>\n",
       "      <td>NaN</td>\n",
       "      <td>2013-09-12 11:32:00 UTC</td>\n",
       "      <td>-73.982060</td>\n",
       "      <td>40.772705</td>\n",
       "      <td>-73.956213</td>\n",
       "      <td>40.771777</td>\n",
       "      <td>55.0</td>\n",
       "    </tr>\n",
       "    <tr>\n",
       "      <th>971</th>\n",
       "      <td>10.1</td>\n",
       "      <td>2010-11-21 01:41:00 UTC</td>\n",
       "      <td>-74.004500</td>\n",
       "      <td>40.742143</td>\n",
       "      <td>-73.994330</td>\n",
       "      <td>40.720412</td>\n",
       "      <td>554.0</td>\n",
       "    </tr>\n",
       "    <tr>\n",
       "      <th>1007</th>\n",
       "      <td>3.7</td>\n",
       "      <td>2010-12-14 14:46:00 UTC</td>\n",
       "      <td>-73.969157</td>\n",
       "      <td>40.759000</td>\n",
       "      <td>-73.968763</td>\n",
       "      <td>40.764617</td>\n",
       "      <td>53.0</td>\n",
       "    </tr>\n",
       "    <tr>\n",
       "      <th>1043</th>\n",
       "      <td>5.7</td>\n",
       "      <td>2012-08-22 22:08:29 UTC</td>\n",
       "      <td>-73.973573</td>\n",
       "      <td>40.760184</td>\n",
       "      <td>-73.953564</td>\n",
       "      <td>40.767392</td>\n",
       "      <td>35.0</td>\n",
       "    </tr>\n",
       "    <tr>\n",
       "      <th>1107</th>\n",
       "      <td>4.9</td>\n",
       "      <td>2009-08-08 21:50:50 UTC</td>\n",
       "      <td>-73.988977</td>\n",
       "      <td>40.721068</td>\n",
       "      <td>-73.982368</td>\n",
       "      <td>40.732064</td>\n",
       "      <td>345.0</td>\n",
       "    </tr>\n",
       "    <tr>\n",
       "      <th>1146</th>\n",
       "      <td>8.0</td>\n",
       "      <td>2014-03-27 08:05:01 UTC</td>\n",
       "      <td>-73.991098</td>\n",
       "      <td>40.770655</td>\n",
       "      <td>-73.976933</td>\n",
       "      <td>40.790070</td>\n",
       "      <td>5345.0</td>\n",
       "    </tr>\n",
       "    <tr>\n",
       "      <th>1200</th>\n",
       "      <td>9.7</td>\n",
       "      <td>2011-08-16 09:29:00 UTC</td>\n",
       "      <td>-73.980487</td>\n",
       "      <td>40.741610</td>\n",
       "      <td>-73.980617</td>\n",
       "      <td>40.746868</td>\n",
       "      <td>536.0</td>\n",
       "    </tr>\n",
       "    <tr>\n",
       "      <th>1242</th>\n",
       "      <td>5.3</td>\n",
       "      <td>2011-10-16 00:22:00 UTC</td>\n",
       "      <td>-73.981095</td>\n",
       "      <td>40.738160</td>\n",
       "      <td>-73.990587</td>\n",
       "      <td>40.740105</td>\n",
       "      <td>43.0</td>\n",
       "    </tr>\n",
       "    <tr>\n",
       "      <th>8406</th>\n",
       "      <td>6.9</td>\n",
       "      <td>2010-08-25 11:41:00 UTC</td>\n",
       "      <td>0.000000</td>\n",
       "      <td>0.000000</td>\n",
       "      <td>0.000000</td>\n",
       "      <td>0.000000</td>\n",
       "      <td>53.0</td>\n",
       "    </tr>\n",
       "    <tr>\n",
       "      <th>8445</th>\n",
       "      <td>5.7</td>\n",
       "      <td>2009-03-28 22:00:00 UTC</td>\n",
       "      <td>-73.982413</td>\n",
       "      <td>40.751320</td>\n",
       "      <td>-73.971292</td>\n",
       "      <td>40.748502</td>\n",
       "      <td>58.0</td>\n",
       "    </tr>\n",
       "    <tr>\n",
       "      <th>8506</th>\n",
       "      <td>11.3</td>\n",
       "      <td>2010-05-23 20:06:37 UTC</td>\n",
       "      <td>-73.985424</td>\n",
       "      <td>40.738468</td>\n",
       "      <td>-74.001698</td>\n",
       "      <td>40.707758</td>\n",
       "      <td>537.0</td>\n",
       "    </tr>\n",
       "    <tr>\n",
       "      <th>8571</th>\n",
       "      <td>12.5</td>\n",
       "      <td>2011-12-03 03:21:00 UTC</td>\n",
       "      <td>-73.993718</td>\n",
       "      <td>40.762039</td>\n",
       "      <td>-73.977527</td>\n",
       "      <td>40.734024</td>\n",
       "      <td>87.0</td>\n",
       "    </tr>\n",
       "    <tr>\n",
       "      <th>8631</th>\n",
       "      <td>20.0</td>\n",
       "      <td>2012-12-10 22:28:00 UTC</td>\n",
       "      <td>-73.955445</td>\n",
       "      <td>40.670232</td>\n",
       "      <td>-74.004795</td>\n",
       "      <td>40.731477</td>\n",
       "      <td>43.0</td>\n",
       "    </tr>\n",
       "    <tr>\n",
       "      <th>8715</th>\n",
       "      <td>4.5</td>\n",
       "      <td>2009-09-04 09:14:03 UTC</td>\n",
       "      <td>-73.977518</td>\n",
       "      <td>40.758480</td>\n",
       "      <td>-73.983252</td>\n",
       "      <td>40.749837</td>\n",
       "      <td>531.2</td>\n",
       "    </tr>\n",
       "    <tr>\n",
       "      <th>8985</th>\n",
       "      <td>8.5</td>\n",
       "      <td>2015-01-14 15:10:21 UTC</td>\n",
       "      <td>-73.955444</td>\n",
       "      <td>40.787605</td>\n",
       "      <td>-73.965561</td>\n",
       "      <td>40.798691</td>\n",
       "      <td>557.0</td>\n",
       "    </tr>\n",
       "  </tbody>\n",
       "</table>\n",
       "</div>"
      ],
      "text/plain": [
       "      fare_amount          pickup_datetime  pickup_longitude  pickup_latitude  \\\n",
       "233           8.5  2011-07-24 01:14:35 UTC          0.000000         0.000000   \n",
       "263           4.9  2010-07-12 09:44:33 UTC        -73.983249        40.734655   \n",
       "293           6.1  2011-01-18 23:48:00 UTC        -74.006642        40.738927   \n",
       "356           8.5  2013-06-18 10:27:05 UTC        -73.992108        40.764203   \n",
       "386           8.1  2009-08-21 19:35:05 UTC        -73.960853        40.761557   \n",
       "413           NaN  2013-09-12 11:32:00 UTC        -73.982060        40.772705   \n",
       "971          10.1  2010-11-21 01:41:00 UTC        -74.004500        40.742143   \n",
       "1007          3.7  2010-12-14 14:46:00 UTC        -73.969157        40.759000   \n",
       "1043          5.7  2012-08-22 22:08:29 UTC        -73.973573        40.760184   \n",
       "1107          4.9  2009-08-08 21:50:50 UTC        -73.988977        40.721068   \n",
       "1146          8.0  2014-03-27 08:05:01 UTC        -73.991098        40.770655   \n",
       "1200          9.7  2011-08-16 09:29:00 UTC        -73.980487        40.741610   \n",
       "1242          5.3  2011-10-16 00:22:00 UTC        -73.981095        40.738160   \n",
       "8406          6.9  2010-08-25 11:41:00 UTC          0.000000         0.000000   \n",
       "8445          5.7  2009-03-28 22:00:00 UTC        -73.982413        40.751320   \n",
       "8506         11.3  2010-05-23 20:06:37 UTC        -73.985424        40.738468   \n",
       "8571         12.5  2011-12-03 03:21:00 UTC        -73.993718        40.762039   \n",
       "8631         20.0  2012-12-10 22:28:00 UTC        -73.955445        40.670232   \n",
       "8715          4.5  2009-09-04 09:14:03 UTC        -73.977518        40.758480   \n",
       "8985          8.5  2015-01-14 15:10:21 UTC        -73.955444        40.787605   \n",
       "\n",
       "      dropoff_longitude  dropoff_latitude  passenger_count  \n",
       "233            0.000000          0.000000            236.0  \n",
       "263          -73.991278         40.738918            456.0  \n",
       "293          -74.010828         40.717907           5334.0  \n",
       "356          -73.973000         40.762695            535.0  \n",
       "386          -73.976335         40.748361            354.0  \n",
       "413          -73.956213         40.771777             55.0  \n",
       "971          -73.994330         40.720412            554.0  \n",
       "1007         -73.968763         40.764617             53.0  \n",
       "1043         -73.953564         40.767392             35.0  \n",
       "1107         -73.982368         40.732064            345.0  \n",
       "1146         -73.976933         40.790070           5345.0  \n",
       "1200         -73.980617         40.746868            536.0  \n",
       "1242         -73.990587         40.740105             43.0  \n",
       "8406           0.000000          0.000000             53.0  \n",
       "8445         -73.971292         40.748502             58.0  \n",
       "8506         -74.001698         40.707758            537.0  \n",
       "8571         -73.977527         40.734024             87.0  \n",
       "8631         -74.004795         40.731477             43.0  \n",
       "8715         -73.983252         40.749837            531.2  \n",
       "8985         -73.965561         40.798691            557.0  "
      ]
     },
     "execution_count": 15,
     "metadata": {},
     "output_type": "execute_result"
    }
   ],
   "source": [
    "train[train['passenger_count']>6]"
   ]
  },
  {
   "cell_type": "code",
   "execution_count": 16,
   "metadata": {
    "scrolled": true
   },
   "outputs": [
    {
     "data": {
      "text/html": [
       "<div>\n",
       "<style scoped>\n",
       "    .dataframe tbody tr th:only-of-type {\n",
       "        vertical-align: middle;\n",
       "    }\n",
       "\n",
       "    .dataframe tbody tr th {\n",
       "        vertical-align: top;\n",
       "    }\n",
       "\n",
       "    .dataframe thead th {\n",
       "        text-align: right;\n",
       "    }\n",
       "</style>\n",
       "<table border=\"1\" class=\"dataframe\">\n",
       "  <thead>\n",
       "    <tr style=\"text-align: right;\">\n",
       "      <th></th>\n",
       "      <th>fare_amount</th>\n",
       "      <th>pickup_datetime</th>\n",
       "      <th>pickup_longitude</th>\n",
       "      <th>pickup_latitude</th>\n",
       "      <th>dropoff_longitude</th>\n",
       "      <th>dropoff_latitude</th>\n",
       "      <th>passenger_count</th>\n",
       "    </tr>\n",
       "  </thead>\n",
       "  <tbody>\n",
       "    <tr>\n",
       "      <th>11</th>\n",
       "      <td>5.50</td>\n",
       "      <td>2012-12-24 11:24:00 UTC</td>\n",
       "      <td>0.000000</td>\n",
       "      <td>0.000000</td>\n",
       "      <td>0.000000</td>\n",
       "      <td>0.000000</td>\n",
       "      <td>3.0</td>\n",
       "    </tr>\n",
       "    <tr>\n",
       "      <th>15</th>\n",
       "      <td>5.00</td>\n",
       "      <td>2013-11-23 12:57:00 UTC</td>\n",
       "      <td>0.000000</td>\n",
       "      <td>0.000000</td>\n",
       "      <td>0.000000</td>\n",
       "      <td>0.000000</td>\n",
       "      <td>1.0</td>\n",
       "    </tr>\n",
       "    <tr>\n",
       "      <th>26</th>\n",
       "      <td>NaN</td>\n",
       "      <td>2011-02-07 20:01:00 UTC</td>\n",
       "      <td>0.000000</td>\n",
       "      <td>0.000000</td>\n",
       "      <td>0.000000</td>\n",
       "      <td>0.000000</td>\n",
       "      <td>1.0</td>\n",
       "    </tr>\n",
       "    <tr>\n",
       "      <th>105</th>\n",
       "      <td>52.00</td>\n",
       "      <td>2009-03-25 00:08:52 UTC</td>\n",
       "      <td>-74.035839</td>\n",
       "      <td>40.747320</td>\n",
       "      <td>-74.035839</td>\n",
       "      <td>40.747320</td>\n",
       "      <td>1.0</td>\n",
       "    </tr>\n",
       "    <tr>\n",
       "      <th>124</th>\n",
       "      <td>8.00</td>\n",
       "      <td>2013-01-17 17:22:00 UTC</td>\n",
       "      <td>0.000000</td>\n",
       "      <td>0.000000</td>\n",
       "      <td>0.000000</td>\n",
       "      <td>0.000000</td>\n",
       "      <td>2.0</td>\n",
       "    </tr>\n",
       "    <tr>\n",
       "      <th>191</th>\n",
       "      <td>6.50</td>\n",
       "      <td>2014-01-08 21:55:58 UTC</td>\n",
       "      <td>-73.998488</td>\n",
       "      <td>40.726303</td>\n",
       "      <td>-73.998488</td>\n",
       "      <td>40.726303</td>\n",
       "      <td>1.0</td>\n",
       "    </tr>\n",
       "    <tr>\n",
       "      <th>192</th>\n",
       "      <td>3.70</td>\n",
       "      <td>2010-09-05 17:08:00 UTC</td>\n",
       "      <td>0.000000</td>\n",
       "      <td>0.000000</td>\n",
       "      <td>0.000000</td>\n",
       "      <td>0.000000</td>\n",
       "      <td>5.0</td>\n",
       "    </tr>\n",
       "    <tr>\n",
       "      <th>233</th>\n",
       "      <td>8.50</td>\n",
       "      <td>2011-07-24 01:14:35 UTC</td>\n",
       "      <td>0.000000</td>\n",
       "      <td>0.000000</td>\n",
       "      <td>0.000000</td>\n",
       "      <td>0.000000</td>\n",
       "      <td>236.0</td>\n",
       "    </tr>\n",
       "    <tr>\n",
       "      <th>270</th>\n",
       "      <td>7.50</td>\n",
       "      <td>2012-08-25 01:53:42 UTC</td>\n",
       "      <td>-73.995892</td>\n",
       "      <td>40.746454</td>\n",
       "      <td>-73.995892</td>\n",
       "      <td>40.746454</td>\n",
       "      <td>1.0</td>\n",
       "    </tr>\n",
       "    <tr>\n",
       "      <th>273</th>\n",
       "      <td>8.10</td>\n",
       "      <td>2009-10-30 18:13:00 UTC</td>\n",
       "      <td>0.000000</td>\n",
       "      <td>0.000000</td>\n",
       "      <td>0.000000</td>\n",
       "      <td>0.000000</td>\n",
       "      <td>4.0</td>\n",
       "    </tr>\n",
       "    <tr>\n",
       "      <th>290</th>\n",
       "      <td>6.90</td>\n",
       "      <td>2009-12-14 12:33:00 UTC</td>\n",
       "      <td>-73.982432</td>\n",
       "      <td>40.745747</td>\n",
       "      <td>-73.982432</td>\n",
       "      <td>40.745747</td>\n",
       "      <td>1.0</td>\n",
       "    </tr>\n",
       "    <tr>\n",
       "      <th>357</th>\n",
       "      <td>8.50</td>\n",
       "      <td>2013-07-04 16:41:27 UTC</td>\n",
       "      <td>0.000000</td>\n",
       "      <td>0.000000</td>\n",
       "      <td>0.000000</td>\n",
       "      <td>0.000000</td>\n",
       "      <td>1.0</td>\n",
       "    </tr>\n",
       "    <tr>\n",
       "      <th>376</th>\n",
       "      <td>2.50</td>\n",
       "      <td>2014-05-29 05:57:22 UTC</td>\n",
       "      <td>0.000000</td>\n",
       "      <td>0.000000</td>\n",
       "      <td>0.000000</td>\n",
       "      <td>0.000000</td>\n",
       "      <td>1.0</td>\n",
       "    </tr>\n",
       "    <tr>\n",
       "      <th>387</th>\n",
       "      <td>13.00</td>\n",
       "      <td>2012-11-15 08:39:00 UTC</td>\n",
       "      <td>0.000000</td>\n",
       "      <td>0.000000</td>\n",
       "      <td>0.000000</td>\n",
       "      <td>0.000000</td>\n",
       "      <td>1.0</td>\n",
       "    </tr>\n",
       "    <tr>\n",
       "      <th>396</th>\n",
       "      <td>12.00</td>\n",
       "      <td>2014-03-12 18:12:44 UTC</td>\n",
       "      <td>-73.844904</td>\n",
       "      <td>40.736318</td>\n",
       "      <td>-73.844904</td>\n",
       "      <td>40.736318</td>\n",
       "      <td>1.0</td>\n",
       "    </tr>\n",
       "    <tr>\n",
       "      <th>498</th>\n",
       "      <td>NaN</td>\n",
       "      <td>2009-03-16 04:47:17 UTC</td>\n",
       "      <td>0.000000</td>\n",
       "      <td>0.000000</td>\n",
       "      <td>0.000000</td>\n",
       "      <td>0.000000</td>\n",
       "      <td>1.0</td>\n",
       "    </tr>\n",
       "    <tr>\n",
       "      <th>503</th>\n",
       "      <td>2.50</td>\n",
       "      <td>2010-01-19 01:10:00 UTC</td>\n",
       "      <td>-73.998720</td>\n",
       "      <td>40.624708</td>\n",
       "      <td>-73.998720</td>\n",
       "      <td>40.624708</td>\n",
       "      <td>1.0</td>\n",
       "    </tr>\n",
       "    <tr>\n",
       "      <th>540</th>\n",
       "      <td>16.00</td>\n",
       "      <td>2013-10-29 01:09:14 UTC</td>\n",
       "      <td>0.000000</td>\n",
       "      <td>0.000000</td>\n",
       "      <td>0.000000</td>\n",
       "      <td>0.000000</td>\n",
       "      <td>1.0</td>\n",
       "    </tr>\n",
       "    <tr>\n",
       "      <th>542</th>\n",
       "      <td>4.50</td>\n",
       "      <td>2009-12-29 14:23:00 UTC</td>\n",
       "      <td>0.000000</td>\n",
       "      <td>0.000000</td>\n",
       "      <td>0.000000</td>\n",
       "      <td>0.000000</td>\n",
       "      <td>1.0</td>\n",
       "    </tr>\n",
       "    <tr>\n",
       "      <th>568</th>\n",
       "      <td>6.50</td>\n",
       "      <td>2014-10-08 06:49:18 UTC</td>\n",
       "      <td>0.000000</td>\n",
       "      <td>0.000000</td>\n",
       "      <td>0.000000</td>\n",
       "      <td>0.000000</td>\n",
       "      <td>1.0</td>\n",
       "    </tr>\n",
       "    <tr>\n",
       "      <th>657</th>\n",
       "      <td>2.50</td>\n",
       "      <td>2009-08-25 01:50:21 UTC</td>\n",
       "      <td>-73.986410</td>\n",
       "      <td>40.763350</td>\n",
       "      <td>-73.986410</td>\n",
       "      <td>40.763350</td>\n",
       "      <td>1.0</td>\n",
       "    </tr>\n",
       "    <tr>\n",
       "      <th>660</th>\n",
       "      <td>13.30</td>\n",
       "      <td>2010-08-18 03:46:00 UTC</td>\n",
       "      <td>0.000000</td>\n",
       "      <td>0.000000</td>\n",
       "      <td>0.000000</td>\n",
       "      <td>0.000000</td>\n",
       "      <td>5.0</td>\n",
       "    </tr>\n",
       "    <tr>\n",
       "      <th>728</th>\n",
       "      <td>11.70</td>\n",
       "      <td>2010-02-13 01:52:11 UTC</td>\n",
       "      <td>0.000000</td>\n",
       "      <td>0.000000</td>\n",
       "      <td>0.000000</td>\n",
       "      <td>0.000000</td>\n",
       "      <td>1.0</td>\n",
       "    </tr>\n",
       "    <tr>\n",
       "      <th>737</th>\n",
       "      <td>57.33</td>\n",
       "      <td>2014-08-11 19:37:00 UTC</td>\n",
       "      <td>-73.776477</td>\n",
       "      <td>40.646290</td>\n",
       "      <td>-73.776477</td>\n",
       "      <td>40.646290</td>\n",
       "      <td>2.0</td>\n",
       "    </tr>\n",
       "    <tr>\n",
       "      <th>799</th>\n",
       "      <td>3.00</td>\n",
       "      <td>2013-12-08 23:39:00 UTC</td>\n",
       "      <td>0.000000</td>\n",
       "      <td>0.000000</td>\n",
       "      <td>0.000000</td>\n",
       "      <td>0.000000</td>\n",
       "      <td>5.0</td>\n",
       "    </tr>\n",
       "    <tr>\n",
       "      <th>808</th>\n",
       "      <td>6.10</td>\n",
       "      <td>2010-10-22 02:24:53 UTC</td>\n",
       "      <td>-73.984433</td>\n",
       "      <td>40.771084</td>\n",
       "      <td>-73.984433</td>\n",
       "      <td>40.771084</td>\n",
       "      <td>1.0</td>\n",
       "    </tr>\n",
       "    <tr>\n",
       "      <th>843</th>\n",
       "      <td>5.50</td>\n",
       "      <td>2014-07-19 04:42:00 UTC</td>\n",
       "      <td>-73.990532</td>\n",
       "      <td>40.719085</td>\n",
       "      <td>-73.990532</td>\n",
       "      <td>40.719085</td>\n",
       "      <td>1.0</td>\n",
       "    </tr>\n",
       "    <tr>\n",
       "      <th>872</th>\n",
       "      <td>8.50</td>\n",
       "      <td>2011-09-25 02:07:00 UTC</td>\n",
       "      <td>0.000000</td>\n",
       "      <td>0.000000</td>\n",
       "      <td>0.000000</td>\n",
       "      <td>0.000000</td>\n",
       "      <td>1.0</td>\n",
       "    </tr>\n",
       "    <tr>\n",
       "      <th>881</th>\n",
       "      <td>8.50</td>\n",
       "      <td>2011-07-19 23:43:12 UTC</td>\n",
       "      <td>0.000000</td>\n",
       "      <td>0.000000</td>\n",
       "      <td>0.000000</td>\n",
       "      <td>0.000000</td>\n",
       "      <td>1.0</td>\n",
       "    </tr>\n",
       "    <tr>\n",
       "      <th>887</th>\n",
       "      <td>12.00</td>\n",
       "      <td>2014-09-26 19:41:41 UTC</td>\n",
       "      <td>0.000000</td>\n",
       "      <td>0.000000</td>\n",
       "      <td>0.000000</td>\n",
       "      <td>0.000000</td>\n",
       "      <td>1.0</td>\n",
       "    </tr>\n",
       "    <tr>\n",
       "      <th>...</th>\n",
       "      <td>...</td>\n",
       "      <td>...</td>\n",
       "      <td>...</td>\n",
       "      <td>...</td>\n",
       "      <td>...</td>\n",
       "      <td>...</td>\n",
       "      <td>...</td>\n",
       "    </tr>\n",
       "    <tr>\n",
       "      <th>15024</th>\n",
       "      <td>6.10</td>\n",
       "      <td>2011-11-15 09:54:00 UTC</td>\n",
       "      <td>0.000000</td>\n",
       "      <td>0.000000</td>\n",
       "      <td>0.000000</td>\n",
       "      <td>0.000000</td>\n",
       "      <td>2.0</td>\n",
       "    </tr>\n",
       "    <tr>\n",
       "      <th>15027</th>\n",
       "      <td>8.00</td>\n",
       "      <td>2013-12-22 09:51:38 UTC</td>\n",
       "      <td>0.000000</td>\n",
       "      <td>0.000000</td>\n",
       "      <td>0.000000</td>\n",
       "      <td>0.000000</td>\n",
       "      <td>1.0</td>\n",
       "    </tr>\n",
       "    <tr>\n",
       "      <th>15044</th>\n",
       "      <td>49.15</td>\n",
       "      <td>2009-02-05 10:53:00 UTC</td>\n",
       "      <td>0.000000</td>\n",
       "      <td>0.000000</td>\n",
       "      <td>0.000000</td>\n",
       "      <td>0.000000</td>\n",
       "      <td>4.0</td>\n",
       "    </tr>\n",
       "    <tr>\n",
       "      <th>15203</th>\n",
       "      <td>3.50</td>\n",
       "      <td>2014-04-09 21:27:16 UTC</td>\n",
       "      <td>0.000000</td>\n",
       "      <td>0.000000</td>\n",
       "      <td>0.000000</td>\n",
       "      <td>0.000000</td>\n",
       "      <td>1.0</td>\n",
       "    </tr>\n",
       "    <tr>\n",
       "      <th>15230</th>\n",
       "      <td>4.50</td>\n",
       "      <td>2011-06-10 07:11:05 UTC</td>\n",
       "      <td>-74.002935</td>\n",
       "      <td>40.738790</td>\n",
       "      <td>-74.002935</td>\n",
       "      <td>40.738790</td>\n",
       "      <td>1.0</td>\n",
       "    </tr>\n",
       "    <tr>\n",
       "      <th>15252</th>\n",
       "      <td>11.30</td>\n",
       "      <td>2011-10-08 19:18:00 UTC</td>\n",
       "      <td>0.000000</td>\n",
       "      <td>0.000000</td>\n",
       "      <td>0.000000</td>\n",
       "      <td>0.000000</td>\n",
       "      <td>3.0</td>\n",
       "    </tr>\n",
       "    <tr>\n",
       "      <th>15371</th>\n",
       "      <td>6.00</td>\n",
       "      <td>2013-03-29 03:04:00 UTC</td>\n",
       "      <td>-73.980940</td>\n",
       "      <td>40.741792</td>\n",
       "      <td>-73.980940</td>\n",
       "      <td>40.741792</td>\n",
       "      <td>1.0</td>\n",
       "    </tr>\n",
       "    <tr>\n",
       "      <th>15379</th>\n",
       "      <td>5.50</td>\n",
       "      <td>2014-06-03 00:12:00 UTC</td>\n",
       "      <td>0.000000</td>\n",
       "      <td>0.000000</td>\n",
       "      <td>0.000000</td>\n",
       "      <td>0.000000</td>\n",
       "      <td>5.0</td>\n",
       "    </tr>\n",
       "    <tr>\n",
       "      <th>15381</th>\n",
       "      <td>4.90</td>\n",
       "      <td>2010-12-24 00:49:26 UTC</td>\n",
       "      <td>0.000000</td>\n",
       "      <td>0.000000</td>\n",
       "      <td>0.000000</td>\n",
       "      <td>0.000000</td>\n",
       "      <td>4.0</td>\n",
       "    </tr>\n",
       "    <tr>\n",
       "      <th>15393</th>\n",
       "      <td>8.70</td>\n",
       "      <td>2009-04-03 19:13:40 UTC</td>\n",
       "      <td>-73.990492</td>\n",
       "      <td>40.746886</td>\n",
       "      <td>-73.990492</td>\n",
       "      <td>40.746886</td>\n",
       "      <td>1.0</td>\n",
       "    </tr>\n",
       "    <tr>\n",
       "      <th>15402</th>\n",
       "      <td>13.50</td>\n",
       "      <td>2014-05-17 11:59:00 UTC</td>\n",
       "      <td>0.000000</td>\n",
       "      <td>0.000000</td>\n",
       "      <td>0.000000</td>\n",
       "      <td>0.000000</td>\n",
       "      <td>1.0</td>\n",
       "    </tr>\n",
       "    <tr>\n",
       "      <th>15418</th>\n",
       "      <td>7.00</td>\n",
       "      <td>2014-12-12 20:01:00 UTC</td>\n",
       "      <td>0.000000</td>\n",
       "      <td>0.000000</td>\n",
       "      <td>0.000000</td>\n",
       "      <td>0.000000</td>\n",
       "      <td>2.0</td>\n",
       "    </tr>\n",
       "    <tr>\n",
       "      <th>15490</th>\n",
       "      <td>2.50</td>\n",
       "      <td>2010-02-15 16:49:15 UTC</td>\n",
       "      <td>-73.785859</td>\n",
       "      <td>40.638730</td>\n",
       "      <td>-73.785859</td>\n",
       "      <td>40.638729</td>\n",
       "      <td>1.0</td>\n",
       "    </tr>\n",
       "    <tr>\n",
       "      <th>15524</th>\n",
       "      <td>5.00</td>\n",
       "      <td>2014-10-04 21:38:28 UTC</td>\n",
       "      <td>-73.918058</td>\n",
       "      <td>40.777991</td>\n",
       "      <td>-73.918058</td>\n",
       "      <td>40.777991</td>\n",
       "      <td>2.0</td>\n",
       "    </tr>\n",
       "    <tr>\n",
       "      <th>15642</th>\n",
       "      <td>4.50</td>\n",
       "      <td>2012-02-06 20:28:00 UTC</td>\n",
       "      <td>-73.997977</td>\n",
       "      <td>40.740987</td>\n",
       "      <td>-73.997977</td>\n",
       "      <td>40.740987</td>\n",
       "      <td>1.0</td>\n",
       "    </tr>\n",
       "    <tr>\n",
       "      <th>15648</th>\n",
       "      <td>31.60</td>\n",
       "      <td>2010-05-03 22:37:54 UTC</td>\n",
       "      <td>0.000000</td>\n",
       "      <td>0.000000</td>\n",
       "      <td>0.000000</td>\n",
       "      <td>0.000000</td>\n",
       "      <td>1.0</td>\n",
       "    </tr>\n",
       "    <tr>\n",
       "      <th>15665</th>\n",
       "      <td>11.30</td>\n",
       "      <td>2012-07-01 21:47:30 UTC</td>\n",
       "      <td>0.000000</td>\n",
       "      <td>0.000000</td>\n",
       "      <td>0.000000</td>\n",
       "      <td>0.000000</td>\n",
       "      <td>1.0</td>\n",
       "    </tr>\n",
       "    <tr>\n",
       "      <th>15691</th>\n",
       "      <td>3.70</td>\n",
       "      <td>2009-10-22 02:07:00 UTC</td>\n",
       "      <td>-73.983727</td>\n",
       "      <td>40.760803</td>\n",
       "      <td>-73.983727</td>\n",
       "      <td>40.767067</td>\n",
       "      <td>1.0</td>\n",
       "    </tr>\n",
       "    <tr>\n",
       "      <th>15738</th>\n",
       "      <td>8.50</td>\n",
       "      <td>2012-05-11 07:28:00 UTC</td>\n",
       "      <td>-73.937762</td>\n",
       "      <td>40.758157</td>\n",
       "      <td>-73.937762</td>\n",
       "      <td>40.758157</td>\n",
       "      <td>1.0</td>\n",
       "    </tr>\n",
       "    <tr>\n",
       "      <th>15764</th>\n",
       "      <td>12.90</td>\n",
       "      <td>2011-08-12 14:35:00 UTC</td>\n",
       "      <td>0.000000</td>\n",
       "      <td>0.000000</td>\n",
       "      <td>0.000000</td>\n",
       "      <td>0.000000</td>\n",
       "      <td>1.0</td>\n",
       "    </tr>\n",
       "    <tr>\n",
       "      <th>15769</th>\n",
       "      <td>17.00</td>\n",
       "      <td>2012-12-21 20:35:18 UTC</td>\n",
       "      <td>-74.003743</td>\n",
       "      <td>40.756404</td>\n",
       "      <td>-74.003743</td>\n",
       "      <td>40.756404</td>\n",
       "      <td>1.0</td>\n",
       "    </tr>\n",
       "    <tr>\n",
       "      <th>15869</th>\n",
       "      <td>6.90</td>\n",
       "      <td>2009-07-22 00:02:37 UTC</td>\n",
       "      <td>-73.941874</td>\n",
       "      <td>40.748985</td>\n",
       "      <td>-73.941874</td>\n",
       "      <td>40.748985</td>\n",
       "      <td>1.0</td>\n",
       "    </tr>\n",
       "    <tr>\n",
       "      <th>15906</th>\n",
       "      <td>12.50</td>\n",
       "      <td>2011-11-20 12:58:00 UTC</td>\n",
       "      <td>-73.928838</td>\n",
       "      <td>40.616788</td>\n",
       "      <td>-73.928838</td>\n",
       "      <td>40.616788</td>\n",
       "      <td>2.0</td>\n",
       "    </tr>\n",
       "    <tr>\n",
       "      <th>15911</th>\n",
       "      <td>5.70</td>\n",
       "      <td>2011-04-07 07:54:53 UTC</td>\n",
       "      <td>0.000000</td>\n",
       "      <td>0.000000</td>\n",
       "      <td>0.000000</td>\n",
       "      <td>0.000000</td>\n",
       "      <td>1.0</td>\n",
       "    </tr>\n",
       "    <tr>\n",
       "      <th>15920</th>\n",
       "      <td>8.10</td>\n",
       "      <td>2012-05-18 04:44:00 UTC</td>\n",
       "      <td>0.000000</td>\n",
       "      <td>0.000000</td>\n",
       "      <td>0.000000</td>\n",
       "      <td>0.000000</td>\n",
       "      <td>1.0</td>\n",
       "    </tr>\n",
       "    <tr>\n",
       "      <th>15929</th>\n",
       "      <td>10.90</td>\n",
       "      <td>2010-05-18 20:34:00 UTC</td>\n",
       "      <td>0.000000</td>\n",
       "      <td>0.000000</td>\n",
       "      <td>0.000000</td>\n",
       "      <td>0.000000</td>\n",
       "      <td>5.0</td>\n",
       "    </tr>\n",
       "    <tr>\n",
       "      <th>15937</th>\n",
       "      <td>3.30</td>\n",
       "      <td>2009-10-01 20:32:00 UTC</td>\n",
       "      <td>0.000000</td>\n",
       "      <td>0.000000</td>\n",
       "      <td>0.000000</td>\n",
       "      <td>0.000000</td>\n",
       "      <td>3.0</td>\n",
       "    </tr>\n",
       "    <tr>\n",
       "      <th>16014</th>\n",
       "      <td>10.90</td>\n",
       "      <td>2011-03-04 14:05:00 UTC</td>\n",
       "      <td>0.000000</td>\n",
       "      <td>0.000000</td>\n",
       "      <td>0.000000</td>\n",
       "      <td>0.000000</td>\n",
       "      <td>2.0</td>\n",
       "    </tr>\n",
       "    <tr>\n",
       "      <th>16022</th>\n",
       "      <td>5.50</td>\n",
       "      <td>2013-04-10 12:24:00 UTC</td>\n",
       "      <td>-73.984123</td>\n",
       "      <td>40.760387</td>\n",
       "      <td>-73.984123</td>\n",
       "      <td>40.760387</td>\n",
       "      <td>6.0</td>\n",
       "    </tr>\n",
       "    <tr>\n",
       "      <th>16056</th>\n",
       "      <td>38.30</td>\n",
       "      <td>2012-12-17 14:59:16 UTC</td>\n",
       "      <td>0.000000</td>\n",
       "      <td>0.000000</td>\n",
       "      <td>0.000000</td>\n",
       "      <td>0.000000</td>\n",
       "      <td>1.0</td>\n",
       "    </tr>\n",
       "  </tbody>\n",
       "</table>\n",
       "<p>462 rows × 7 columns</p>\n",
       "</div>"
      ],
      "text/plain": [
       "       fare_amount          pickup_datetime  pickup_longitude  \\\n",
       "11            5.50  2012-12-24 11:24:00 UTC          0.000000   \n",
       "15            5.00  2013-11-23 12:57:00 UTC          0.000000   \n",
       "26             NaN  2011-02-07 20:01:00 UTC          0.000000   \n",
       "105          52.00  2009-03-25 00:08:52 UTC        -74.035839   \n",
       "124           8.00  2013-01-17 17:22:00 UTC          0.000000   \n",
       "191           6.50  2014-01-08 21:55:58 UTC        -73.998488   \n",
       "192           3.70  2010-09-05 17:08:00 UTC          0.000000   \n",
       "233           8.50  2011-07-24 01:14:35 UTC          0.000000   \n",
       "270           7.50  2012-08-25 01:53:42 UTC        -73.995892   \n",
       "273           8.10  2009-10-30 18:13:00 UTC          0.000000   \n",
       "290           6.90  2009-12-14 12:33:00 UTC        -73.982432   \n",
       "357           8.50  2013-07-04 16:41:27 UTC          0.000000   \n",
       "376           2.50  2014-05-29 05:57:22 UTC          0.000000   \n",
       "387          13.00  2012-11-15 08:39:00 UTC          0.000000   \n",
       "396          12.00  2014-03-12 18:12:44 UTC        -73.844904   \n",
       "498            NaN  2009-03-16 04:47:17 UTC          0.000000   \n",
       "503           2.50  2010-01-19 01:10:00 UTC        -73.998720   \n",
       "540          16.00  2013-10-29 01:09:14 UTC          0.000000   \n",
       "542           4.50  2009-12-29 14:23:00 UTC          0.000000   \n",
       "568           6.50  2014-10-08 06:49:18 UTC          0.000000   \n",
       "657           2.50  2009-08-25 01:50:21 UTC        -73.986410   \n",
       "660          13.30  2010-08-18 03:46:00 UTC          0.000000   \n",
       "728          11.70  2010-02-13 01:52:11 UTC          0.000000   \n",
       "737          57.33  2014-08-11 19:37:00 UTC        -73.776477   \n",
       "799           3.00  2013-12-08 23:39:00 UTC          0.000000   \n",
       "808           6.10  2010-10-22 02:24:53 UTC        -73.984433   \n",
       "843           5.50  2014-07-19 04:42:00 UTC        -73.990532   \n",
       "872           8.50  2011-09-25 02:07:00 UTC          0.000000   \n",
       "881           8.50  2011-07-19 23:43:12 UTC          0.000000   \n",
       "887          12.00  2014-09-26 19:41:41 UTC          0.000000   \n",
       "...            ...                      ...               ...   \n",
       "15024         6.10  2011-11-15 09:54:00 UTC          0.000000   \n",
       "15027         8.00  2013-12-22 09:51:38 UTC          0.000000   \n",
       "15044        49.15  2009-02-05 10:53:00 UTC          0.000000   \n",
       "15203         3.50  2014-04-09 21:27:16 UTC          0.000000   \n",
       "15230         4.50  2011-06-10 07:11:05 UTC        -74.002935   \n",
       "15252        11.30  2011-10-08 19:18:00 UTC          0.000000   \n",
       "15371         6.00  2013-03-29 03:04:00 UTC        -73.980940   \n",
       "15379         5.50  2014-06-03 00:12:00 UTC          0.000000   \n",
       "15381         4.90  2010-12-24 00:49:26 UTC          0.000000   \n",
       "15393         8.70  2009-04-03 19:13:40 UTC        -73.990492   \n",
       "15402        13.50  2014-05-17 11:59:00 UTC          0.000000   \n",
       "15418         7.00  2014-12-12 20:01:00 UTC          0.000000   \n",
       "15490         2.50  2010-02-15 16:49:15 UTC        -73.785859   \n",
       "15524         5.00  2014-10-04 21:38:28 UTC        -73.918058   \n",
       "15642         4.50  2012-02-06 20:28:00 UTC        -73.997977   \n",
       "15648        31.60  2010-05-03 22:37:54 UTC          0.000000   \n",
       "15665        11.30  2012-07-01 21:47:30 UTC          0.000000   \n",
       "15691         3.70  2009-10-22 02:07:00 UTC        -73.983727   \n",
       "15738         8.50  2012-05-11 07:28:00 UTC        -73.937762   \n",
       "15764        12.90  2011-08-12 14:35:00 UTC          0.000000   \n",
       "15769        17.00  2012-12-21 20:35:18 UTC        -74.003743   \n",
       "15869         6.90  2009-07-22 00:02:37 UTC        -73.941874   \n",
       "15906        12.50  2011-11-20 12:58:00 UTC        -73.928838   \n",
       "15911         5.70  2011-04-07 07:54:53 UTC          0.000000   \n",
       "15920         8.10  2012-05-18 04:44:00 UTC          0.000000   \n",
       "15929        10.90  2010-05-18 20:34:00 UTC          0.000000   \n",
       "15937         3.30  2009-10-01 20:32:00 UTC          0.000000   \n",
       "16014        10.90  2011-03-04 14:05:00 UTC          0.000000   \n",
       "16022         5.50  2013-04-10 12:24:00 UTC        -73.984123   \n",
       "16056        38.30  2012-12-17 14:59:16 UTC          0.000000   \n",
       "\n",
       "       pickup_latitude  dropoff_longitude  dropoff_latitude  passenger_count  \n",
       "11            0.000000           0.000000          0.000000              3.0  \n",
       "15            0.000000           0.000000          0.000000              1.0  \n",
       "26            0.000000           0.000000          0.000000              1.0  \n",
       "105          40.747320         -74.035839         40.747320              1.0  \n",
       "124           0.000000           0.000000          0.000000              2.0  \n",
       "191          40.726303         -73.998488         40.726303              1.0  \n",
       "192           0.000000           0.000000          0.000000              5.0  \n",
       "233           0.000000           0.000000          0.000000            236.0  \n",
       "270          40.746454         -73.995892         40.746454              1.0  \n",
       "273           0.000000           0.000000          0.000000              4.0  \n",
       "290          40.745747         -73.982432         40.745747              1.0  \n",
       "357           0.000000           0.000000          0.000000              1.0  \n",
       "376           0.000000           0.000000          0.000000              1.0  \n",
       "387           0.000000           0.000000          0.000000              1.0  \n",
       "396          40.736318         -73.844904         40.736318              1.0  \n",
       "498           0.000000           0.000000          0.000000              1.0  \n",
       "503          40.624708         -73.998720         40.624708              1.0  \n",
       "540           0.000000           0.000000          0.000000              1.0  \n",
       "542           0.000000           0.000000          0.000000              1.0  \n",
       "568           0.000000           0.000000          0.000000              1.0  \n",
       "657          40.763350         -73.986410         40.763350              1.0  \n",
       "660           0.000000           0.000000          0.000000              5.0  \n",
       "728           0.000000           0.000000          0.000000              1.0  \n",
       "737          40.646290         -73.776477         40.646290              2.0  \n",
       "799           0.000000           0.000000          0.000000              5.0  \n",
       "808          40.771084         -73.984433         40.771084              1.0  \n",
       "843          40.719085         -73.990532         40.719085              1.0  \n",
       "872           0.000000           0.000000          0.000000              1.0  \n",
       "881           0.000000           0.000000          0.000000              1.0  \n",
       "887           0.000000           0.000000          0.000000              1.0  \n",
       "...                ...                ...               ...              ...  \n",
       "15024         0.000000           0.000000          0.000000              2.0  \n",
       "15027         0.000000           0.000000          0.000000              1.0  \n",
       "15044         0.000000           0.000000          0.000000              4.0  \n",
       "15203         0.000000           0.000000          0.000000              1.0  \n",
       "15230        40.738790         -74.002935         40.738790              1.0  \n",
       "15252         0.000000           0.000000          0.000000              3.0  \n",
       "15371        40.741792         -73.980940         40.741792              1.0  \n",
       "15379         0.000000           0.000000          0.000000              5.0  \n",
       "15381         0.000000           0.000000          0.000000              4.0  \n",
       "15393        40.746886         -73.990492         40.746886              1.0  \n",
       "15402         0.000000           0.000000          0.000000              1.0  \n",
       "15418         0.000000           0.000000          0.000000              2.0  \n",
       "15490        40.638730         -73.785859         40.638729              1.0  \n",
       "15524        40.777991         -73.918058         40.777991              2.0  \n",
       "15642        40.740987         -73.997977         40.740987              1.0  \n",
       "15648         0.000000           0.000000          0.000000              1.0  \n",
       "15665         0.000000           0.000000          0.000000              1.0  \n",
       "15691        40.760803         -73.983727         40.767067              1.0  \n",
       "15738        40.758157         -73.937762         40.758157              1.0  \n",
       "15764         0.000000           0.000000          0.000000              1.0  \n",
       "15769        40.756404         -74.003743         40.756404              1.0  \n",
       "15869        40.748985         -73.941874         40.748985              1.0  \n",
       "15906        40.616788         -73.928838         40.616788              2.0  \n",
       "15911         0.000000           0.000000          0.000000              1.0  \n",
       "15920         0.000000           0.000000          0.000000              1.0  \n",
       "15929         0.000000           0.000000          0.000000              5.0  \n",
       "15937         0.000000           0.000000          0.000000              3.0  \n",
       "16014         0.000000           0.000000          0.000000              2.0  \n",
       "16022        40.760387         -73.984123         40.760387              6.0  \n",
       "16056         0.000000           0.000000          0.000000              1.0  \n",
       "\n",
       "[462 rows x 7 columns]"
      ]
     },
     "execution_count": 16,
     "metadata": {},
     "output_type": "execute_result"
    }
   ],
   "source": [
    "# to see rows where pickup_longitude equal to drropoff_longitude\n",
    "train[train['pickup_longitude']==train['dropoff_longitude']]\n"
   ]
  },
  {
   "cell_type": "code",
   "execution_count": 17,
   "metadata": {},
   "outputs": [
    {
     "data": {
      "text/plain": [
       "fare_amount          460\n",
       "pickup_datetime      462\n",
       "pickup_longitude     462\n",
       "pickup_latitude      462\n",
       "dropoff_longitude    462\n",
       "dropoff_latitude     462\n",
       "passenger_count      462\n",
       "dtype: int64"
      ]
     },
     "execution_count": 17,
     "metadata": {},
     "output_type": "execute_result"
    }
   ],
   "source": [
    "train[train['pickup_longitude']==train['dropoff_longitude']].count()"
   ]
  },
  {
   "cell_type": "code",
   "execution_count": 18,
   "metadata": {
    "scrolled": true
   },
   "outputs": [],
   "source": [
    "#Drop rows where pickup_longitude equal to drropoff_longitude\n",
    "train.drop(train[train['pickup_longitude']==train['dropoff_longitude']].index,inplace=True)"
   ]
  },
  {
   "cell_type": "code",
   "execution_count": 19,
   "metadata": {},
   "outputs": [],
   "source": [
    "#replace 0 with NA in the variables\n",
    "train['fare_amount']= train['fare_amount'].apply(pd.to_numeric, errors='coerce')\n",
    "train['fare_amount']= train['fare_amount'].replace({0:np.nan})\n",
    "train['passenger_count']=train['passenger_count'].fillna(0)\n",
    "train['passenger_count']= train['passenger_count'].astype(int)\n",
    "train['passenger_count']=train['passenger_count'].replace({0: np.nan})\n",
    "train['pickup_longitude']= train['pickup_longitude'].replace({0:np.nan})\n",
    "train['pickup_latitude']= train['pickup_latitude'].replace({0:np.nan})\n",
    "train['dropoff_longitude']= train['dropoff_longitude'].replace({0:np.nan})\n",
    "train['dropoff_latitude']= train['dropoff_latitude'].replace({0:np.nan})"
   ]
  },
  {
   "cell_type": "code",
   "execution_count": 20,
   "metadata": {},
   "outputs": [
    {
     "data": {
      "text/plain": [
       "fare_amount           24\n",
       "pickup_datetime        0\n",
       "pickup_longitude      12\n",
       "pickup_latitude       12\n",
       "dropoff_longitude     11\n",
       "dropoff_latitude       9\n",
       "passenger_count      112\n",
       "dtype: int64"
      ]
     },
     "execution_count": 20,
     "metadata": {},
     "output_type": "execute_result"
    }
   ],
   "source": [
    "train.isna().sum()"
   ]
  },
  {
   "cell_type": "code",
   "execution_count": 21,
   "metadata": {},
   "outputs": [
    {
     "data": {
      "text/html": [
       "<div>\n",
       "<style scoped>\n",
       "    .dataframe tbody tr th:only-of-type {\n",
       "        vertical-align: middle;\n",
       "    }\n",
       "\n",
       "    .dataframe tbody tr th {\n",
       "        vertical-align: top;\n",
       "    }\n",
       "\n",
       "    .dataframe thead th {\n",
       "        text-align: right;\n",
       "    }\n",
       "</style>\n",
       "<table border=\"1\" class=\"dataframe\">\n",
       "  <thead>\n",
       "    <tr style=\"text-align: right;\">\n",
       "      <th></th>\n",
       "      <th>fare_amount</th>\n",
       "      <th>pickup_datetime</th>\n",
       "      <th>pickup_longitude</th>\n",
       "      <th>pickup_latitude</th>\n",
       "      <th>dropoff_longitude</th>\n",
       "      <th>dropoff_latitude</th>\n",
       "      <th>passenger_count</th>\n",
       "    </tr>\n",
       "  </thead>\n",
       "  <tbody>\n",
       "    <tr>\n",
       "      <th>0</th>\n",
       "      <td>4.5</td>\n",
       "      <td>2009-06-15 17:26:21 UTC</td>\n",
       "      <td>-73.844311</td>\n",
       "      <td>40.721319</td>\n",
       "      <td>-73.841610</td>\n",
       "      <td>40.712278</td>\n",
       "      <td>1.0</td>\n",
       "    </tr>\n",
       "    <tr>\n",
       "      <th>1</th>\n",
       "      <td>16.9</td>\n",
       "      <td>2010-01-05 16:52:16 UTC</td>\n",
       "      <td>-74.016048</td>\n",
       "      <td>40.711303</td>\n",
       "      <td>-73.979268</td>\n",
       "      <td>40.782004</td>\n",
       "      <td>1.0</td>\n",
       "    </tr>\n",
       "    <tr>\n",
       "      <th>2</th>\n",
       "      <td>5.7</td>\n",
       "      <td>2011-08-18 00:35:00 UTC</td>\n",
       "      <td>-73.982738</td>\n",
       "      <td>40.761270</td>\n",
       "      <td>-73.991242</td>\n",
       "      <td>40.750562</td>\n",
       "      <td>2.0</td>\n",
       "    </tr>\n",
       "    <tr>\n",
       "      <th>3</th>\n",
       "      <td>7.7</td>\n",
       "      <td>2012-04-21 04:30:42 UTC</td>\n",
       "      <td>-73.987130</td>\n",
       "      <td>40.733143</td>\n",
       "      <td>-73.991567</td>\n",
       "      <td>40.758092</td>\n",
       "      <td>1.0</td>\n",
       "    </tr>\n",
       "    <tr>\n",
       "      <th>4</th>\n",
       "      <td>5.3</td>\n",
       "      <td>2010-03-09 07:51:00 UTC</td>\n",
       "      <td>-73.968095</td>\n",
       "      <td>40.768008</td>\n",
       "      <td>-73.956655</td>\n",
       "      <td>40.783762</td>\n",
       "      <td>1.0</td>\n",
       "    </tr>\n",
       "  </tbody>\n",
       "</table>\n",
       "</div>"
      ],
      "text/plain": [
       "   fare_amount          pickup_datetime  pickup_longitude  pickup_latitude  \\\n",
       "0          4.5  2009-06-15 17:26:21 UTC        -73.844311        40.721319   \n",
       "1         16.9  2010-01-05 16:52:16 UTC        -74.016048        40.711303   \n",
       "2          5.7  2011-08-18 00:35:00 UTC        -73.982738        40.761270   \n",
       "3          7.7  2012-04-21 04:30:42 UTC        -73.987130        40.733143   \n",
       "4          5.3  2010-03-09 07:51:00 UTC        -73.968095        40.768008   \n",
       "\n",
       "   dropoff_longitude  dropoff_latitude  passenger_count  \n",
       "0         -73.841610         40.712278              1.0  \n",
       "1         -73.979268         40.782004              1.0  \n",
       "2         -73.991242         40.750562              2.0  \n",
       "3         -73.991567         40.758092              1.0  \n",
       "4         -73.956655         40.783762              1.0  "
      ]
     },
     "execution_count": 21,
     "metadata": {},
     "output_type": "execute_result"
    }
   ],
   "source": [
    "train.head()"
   ]
  },
  {
   "cell_type": "code",
   "execution_count": 22,
   "metadata": {},
   "outputs": [],
   "source": [
    "#creaet a function to calculate missing values\n",
    "def missingval(data):\n",
    "    missing_val = pd.DataFrame(data.isnull().sum())\n",
    "    \n",
    "#Reset index\n",
    "    missing_val = missing_val.reset_index()\n",
    "\n",
    "#Rename variable\n",
    "    missing_val = missing_val.rename(columns = {'index': 'Variables', 0: 'count'})\n",
    "\n",
    "#Calculate percentage\n",
    "    missing_val['Missing_percentage'] = (missing_val['count']/len(data)*100)\n",
    "\n",
    "#descending order\n",
    "    missing_val = missing_val.sort_values('Missing_percentage', ascending = False).reset_index(drop = True)\n",
    "    print(missing_val)"
   ]
  },
  {
   "cell_type": "code",
   "execution_count": 23,
   "metadata": {},
   "outputs": [
    {
     "name": "stdout",
     "output_type": "stream",
     "text": [
      "           Variables  count  Missing_percentage\n",
      "0    passenger_count    112            0.717719\n",
      "1        fare_amount     24            0.153797\n",
      "2   pickup_longitude     12            0.076898\n",
      "3    pickup_latitude     12            0.076898\n",
      "4  dropoff_longitude     11            0.070490\n",
      "5   dropoff_latitude      9            0.057674\n",
      "6    pickup_datetime      0            0.000000\n"
     ]
    }
   ],
   "source": [
    "missingval(train)"
   ]
  },
  {
   "cell_type": "code",
   "execution_count": 24,
   "metadata": {},
   "outputs": [],
   "source": [
    "df = train.copy()\n",
    "train = df.copy()\n"
   ]
  },
  {
   "cell_type": "code",
   "execution_count": null,
   "metadata": {},
   "outputs": [],
   "source": [
    "#actual--train['pickup_longitude'].loc[50]==-73.985582\n",
    "#KNN----73.97770799999999\n",
    "#median-   -73.9820605\n",
    "#mean   -73.91160183651274"
   ]
  },
  {
   "cell_type": "code",
   "execution_count": null,
   "metadata": {},
   "outputs": [],
   "source": [
    "#fare_amount =9.7\n",
    "#Mean-15.127673940949794\n",
    "#median-8.5\n",
    "#knn- 7.5"
   ]
  },
  {
   "cell_type": "code",
   "execution_count": 25,
   "metadata": {},
   "outputs": [
    {
     "data": {
      "text/plain": [
       "<matplotlib.axes._subplots.AxesSubplot at 0x1f5eafb5cf8>"
      ]
     },
     "execution_count": 25,
     "metadata": {},
     "output_type": "execute_result"
    },
    {
     "data": {
      "image/png": "[encoded data removed]",
      "text/plain": [
       "<Figure size 1008x216 with 1 Axes>"
      ]
     },
     "metadata": {
      "needs_background": "light"
     },
     "output_type": "display_data"
    }
   ],
   "source": [
    "train[train['passenger_count']<=6]['passenger_count'].hist(bins=100, figsize=(14,3))"
   ]
  },
  {
   "cell_type": "code",
   "execution_count": 26,
   "metadata": {},
   "outputs": [],
   "source": [
    "#Since Median is the best method, we impute missing values with median\n",
    "\n",
    "train['pickup_longitude'] = train['pickup_longitude'].fillna(train['pickup_longitude'].median())\n",
    "train['pickup_latitude'] = train['pickup_latitude'].fillna(train['pickup_latitude'].median())\n",
    "train['dropoff_longitude'] = train['dropoff_longitude'].fillna(train['dropoff_longitude'].median())\n",
    "train['dropoff_latitude'] = train['dropoff_latitude'].fillna(train['dropoff_latitude'].median())\n",
    "\n",
    "#for category variables we impute with mode\n",
    "train['passenger_count'] = train['passenger_count'].fillna(int(train['passenger_count'].mode()))"
   ]
  },
  {
   "cell_type": "code",
   "execution_count": 27,
   "metadata": {},
   "outputs": [
    {
     "data": {
      "text/plain": [
       "fare_amount          24\n",
       "pickup_datetime       0\n",
       "pickup_longitude      0\n",
       "pickup_latitude       0\n",
       "dropoff_longitude     0\n",
       "dropoff_latitude      0\n",
       "passenger_count       0\n",
       "dtype: int64"
      ]
     },
     "execution_count": 27,
     "metadata": {},
     "output_type": "execute_result"
    }
   ],
   "source": [
    "train.isna().sum()"
   ]
  },
  {
   "cell_type": "code",
   "execution_count": 28,
   "metadata": {},
   "outputs": [
    {
     "data": {
      "text/plain": [
       "(15605, 7)"
      ]
     },
     "execution_count": 28,
     "metadata": {},
     "output_type": "execute_result"
    }
   ],
   "source": [
    "train.shape"
   ]
  },
  {
   "cell_type": "code",
   "execution_count": 29,
   "metadata": {},
   "outputs": [],
   "source": [
    "#Imputing the NAs in target variables will bias the model, hence remove them\n",
    "train=train.dropna()"
   ]
  },
  {
   "cell_type": "code",
   "execution_count": 30,
   "metadata": {},
   "outputs": [
    {
     "data": {
      "text/plain": [
       "(15581, 7)"
      ]
     },
     "execution_count": 30,
     "metadata": {},
     "output_type": "execute_result"
    }
   ],
   "source": [
    "train.shape"
   ]
  },
  {
   "cell_type": "code",
   "execution_count": 31,
   "metadata": {},
   "outputs": [],
   "source": [
    "#conert into proper data type\n",
    "dtype_data={'fare_amount' : 'float','passenger_count': 'int'}\n",
    "train=train.astype(dtype_data)\n"
   ]
  },
  {
   "cell_type": "code",
   "execution_count": 32,
   "metadata": {},
   "outputs": [
    {
     "data": {
      "text/plain": [
       "<matplotlib.axes._subplots.AxesSubplot at 0x1f5ed11bdd8>"
      ]
     },
     "execution_count": 32,
     "metadata": {},
     "output_type": "execute_result"
    },
    {
     "data": {
      "image/png": "[encoded data removed]",
      "text/plain": [
       "<Figure size 1008x360 with 1 Axes>"
      ]
     },
     "metadata": {
      "needs_background": "light"
     },
     "output_type": "display_data"
    }
   ],
   "source": [
    "# plot of the passenger_count\n",
    "plt.figure(figsize=(14,5))\n",
    "sns.countplot(x='passenger_count', data=train)"
   ]
  },
  {
   "cell_type": "code",
   "execution_count": 33,
   "metadata": {
    "scrolled": false
   },
   "outputs": [
    {
     "data": {
      "text/plain": [
       "1       11015\n",
       "2        2263\n",
       "5        1018\n",
       "3         656\n",
       "4         318\n",
       "6         294\n",
       "43          2\n",
       "535         1\n",
       "354         1\n",
       "536         1\n",
       "345         1\n",
       "537         1\n",
       "58          1\n",
       "35          1\n",
       "554         1\n",
       "87          1\n",
       "531         1\n",
       "5345        1\n",
       "5334        1\n",
       "53          1\n",
       "557         1\n",
       "456         1\n",
       "Name: passenger_count, dtype: int64"
      ]
     },
     "execution_count": 33,
     "metadata": {},
     "output_type": "execute_result"
    }
   ],
   "source": [
    "train['passenger_count'].value_counts()"
   ]
  },
  {
   "cell_type": "code",
   "execution_count": 34,
   "metadata": {},
   "outputs": [
    {
     "data": {
      "text/plain": [
       "Text(0.5, 1.0, 'Histogram')"
      ]
     },
     "execution_count": 34,
     "metadata": {},
     "output_type": "execute_result"
    },
    {
     "data": {
      "image/png": "[encoded data removed]",
      "text/plain": [
       "<Figure size 1008x216 with 1 Axes>"
      ]
     },
     "metadata": {
      "needs_background": "light"
     },
     "output_type": "display_data"
    }
   ],
   "source": [
    "# plot of fare_amount wwhich are in range\n",
    "train[train['fare_amount']<60]['fare_amount'].hist(bins=30, figsize=(14,3))\n",
    "plt.xlabel('fare')\n",
    "plt.title('Histogram')"
   ]
  },
  {
   "cell_type": "code",
   "execution_count": 35,
   "metadata": {
    "scrolled": true
   },
   "outputs": [
    {
     "data": {
      "text/plain": [
       "fare_amount          32\n",
       "pickup_datetime      32\n",
       "pickup_longitude     32\n",
       "pickup_latitude      32\n",
       "dropoff_longitude    32\n",
       "dropoff_latitude     32\n",
       "passenger_count      32\n",
       "dtype: int64"
      ]
     },
     "execution_count": 35,
     "metadata": {},
     "output_type": "execute_result"
    }
   ],
   "source": [
    "train[train['fare_amount']>60].count()"
   ]
  },
  {
   "cell_type": "code",
   "execution_count": 36,
   "metadata": {},
   "outputs": [
    {
     "data": {
      "text/html": [
       "<div>\n",
       "<style scoped>\n",
       "    .dataframe tbody tr th:only-of-type {\n",
       "        vertical-align: middle;\n",
       "    }\n",
       "\n",
       "    .dataframe tbody tr th {\n",
       "        vertical-align: top;\n",
       "    }\n",
       "\n",
       "    .dataframe thead th {\n",
       "        text-align: right;\n",
       "    }\n",
       "</style>\n",
       "<table border=\"1\" class=\"dataframe\">\n",
       "  <thead>\n",
       "    <tr style=\"text-align: right;\">\n",
       "      <th></th>\n",
       "      <th>fare_amount</th>\n",
       "      <th>pickup_datetime</th>\n",
       "      <th>pickup_longitude</th>\n",
       "      <th>pickup_latitude</th>\n",
       "      <th>dropoff_longitude</th>\n",
       "      <th>dropoff_latitude</th>\n",
       "      <th>passenger_count</th>\n",
       "    </tr>\n",
       "  </thead>\n",
       "  <tbody>\n",
       "    <tr>\n",
       "      <th>2039</th>\n",
       "      <td>-2.9</td>\n",
       "      <td>2010-03-09 23:37:10 UTC</td>\n",
       "      <td>-73.789450</td>\n",
       "      <td>40.643498</td>\n",
       "      <td>-73.788665</td>\n",
       "      <td>40.641952</td>\n",
       "      <td>1</td>\n",
       "    </tr>\n",
       "    <tr>\n",
       "      <th>2486</th>\n",
       "      <td>-2.5</td>\n",
       "      <td>2015-03-22 05:14:27 UTC</td>\n",
       "      <td>-74.000031</td>\n",
       "      <td>40.720631</td>\n",
       "      <td>-73.999809</td>\n",
       "      <td>40.720539</td>\n",
       "      <td>1</td>\n",
       "    </tr>\n",
       "    <tr>\n",
       "      <th>13032</th>\n",
       "      <td>-3.0</td>\n",
       "      <td>2013-08-30 08:57:10 UTC</td>\n",
       "      <td>-73.995062</td>\n",
       "      <td>40.740755</td>\n",
       "      <td>-73.995885</td>\n",
       "      <td>40.741357</td>\n",
       "      <td>4</td>\n",
       "    </tr>\n",
       "  </tbody>\n",
       "</table>\n",
       "</div>"
      ],
      "text/plain": [
       "       fare_amount          pickup_datetime  pickup_longitude  \\\n",
       "2039          -2.9  2010-03-09 23:37:10 UTC        -73.789450   \n",
       "2486          -2.5  2015-03-22 05:14:27 UTC        -74.000031   \n",
       "13032         -3.0  2013-08-30 08:57:10 UTC        -73.995062   \n",
       "\n",
       "       pickup_latitude  dropoff_longitude  dropoff_latitude  passenger_count  \n",
       "2039         40.643498         -73.788665         40.641952                1  \n",
       "2486         40.720631         -73.999809         40.720539                1  \n",
       "13032        40.740755         -73.995885         40.741357                4  "
      ]
     },
     "execution_count": 36,
     "metadata": {},
     "output_type": "execute_result"
    }
   ],
   "source": [
    "train[train['fare_amount']<0]"
   ]
  },
  {
   "cell_type": "markdown",
   "metadata": {},
   "source": [
    "# Outlier Analysis"
   ]
  },
  {
   "cell_type": "code",
   "execution_count": 37,
   "metadata": {},
   "outputs": [
    {
     "data": {
      "text/plain": [
       "{'whiskers': [<matplotlib.lines.Line2D at 0x1f5ed0fd160>,\n",
       "  <matplotlib.lines.Line2D at 0x1f5ed2ce6a0>],\n",
       " 'caps': [<matplotlib.lines.Line2D at 0x1f5ed2ce9e8>,\n",
       "  <matplotlib.lines.Line2D at 0x1f5ed2ced30>],\n",
       " 'boxes': [<matplotlib.lines.Line2D at 0x1f5ed2c2f60>],\n",
       " 'medians': [<matplotlib.lines.Line2D at 0x1f5ed2cee10>],\n",
       " 'fliers': [<matplotlib.lines.Line2D at 0x1f5ed2d9400>],\n",
       " 'means': []}"
      ]
     },
     "execution_count": 37,
     "metadata": {},
     "output_type": "execute_result"
    },
    {
     "data": {
      "image/png": "[encoded data removed]",
      "text/plain": [
       "<Figure size 432x288 with 1 Axes>"
      ]
     },
     "metadata": {
      "needs_background": "light"
     },
     "output_type": "display_data"
    }
   ],
   "source": [
    "# #Plot boxplot to visualize Outliers\n",
    "  \n",
    "plt.boxplot(train['passenger_count'])"
   ]
  },
  {
   "cell_type": "code",
   "execution_count": 38,
   "metadata": {},
   "outputs": [
    {
     "data": {
      "text/plain": [
       "{'whiskers': [<matplotlib.lines.Line2D at 0x1f5ed27c0b8>,\n",
       "  <matplotlib.lines.Line2D at 0x1f5ed322da0>],\n",
       " 'caps': [<matplotlib.lines.Line2D at 0x1f5ed322e80>,\n",
       "  <matplotlib.lines.Line2D at 0x1f5ed32d470>],\n",
       " 'boxes': [<matplotlib.lines.Line2D at 0x1f5ed3226a0>],\n",
       " 'medians': [<matplotlib.lines.Line2D at 0x1f5ed32d7b8>],\n",
       " 'fliers': [<matplotlib.lines.Line2D at 0x1f5ed32db00>],\n",
       " 'means': []}"
      ]
     },
     "execution_count": 38,
     "metadata": {},
     "output_type": "execute_result"
    },
    {
     "data": {
      "image/png": "[encoded data removed]",
      "text/plain": [
       "<Figure size 432x288 with 1 Axes>"
      ]
     },
     "metadata": {
      "needs_background": "light"
     },
     "output_type": "display_data"
    }
   ],
   "source": [
    "plt.boxplot(train['pickup_latitude'])"
   ]
  },
  {
   "cell_type": "code",
   "execution_count": 39,
   "metadata": {},
   "outputs": [
    {
     "data": {
      "text/plain": [
       "{'whiskers': [<matplotlib.lines.Line2D at 0x1f5ed0270b8>,\n",
       "  <matplotlib.lines.Line2D at 0x1f5ed506f60>],\n",
       " 'caps': [<matplotlib.lines.Line2D at 0x1f5ed5112e8>,\n",
       "  <matplotlib.lines.Line2D at 0x1f5ed511630>],\n",
       " 'boxes': [<matplotlib.lines.Line2D at 0x1f5ed506860>],\n",
       " 'medians': [<matplotlib.lines.Line2D at 0x1f5ed511978>],\n",
       " 'fliers': [<matplotlib.lines.Line2D at 0x1f5ed511cc0>],\n",
       " 'means': []}"
      ]
     },
     "execution_count": 39,
     "metadata": {},
     "output_type": "execute_result"
    },
    {
     "data": {
      "image/png": "[encoded data removed]",
      "text/plain": [
       "<Figure size 432x288 with 1 Axes>"
      ]
     },
     "metadata": {
      "needs_background": "light"
     },
     "output_type": "display_data"
    }
   ],
   "source": [
    "plt.boxplot(train['fare_amount'])"
   ]
  },
  {
   "cell_type": "code",
   "execution_count": 40,
   "metadata": {},
   "outputs": [],
   "source": [
    "cnames = ['pickup_longitude', 'pickup_latitude','dropoff_longitude', 'dropoff_latitude']"
   ]
  },
  {
   "cell_type": "code",
   "execution_count": 41,
   "metadata": {},
   "outputs": [
    {
     "name": "stdout",
     "output_type": "stream",
     "text": [
      "pickup_longitude\n",
      "-74.02868999999998\n",
      "-73.93189000000001\n",
      "pickup_latitude\n",
      "40.68979549999999\n",
      "40.814575500000004\n",
      "dropoff_longitude\n",
      "-74.0301125\n",
      "-73.92680449999997\n",
      "dropoff_latitude\n",
      "40.6882895\n",
      "40.816309499999996\n"
     ]
    }
   ],
   "source": [
    "#Detect and delete outliers from data\n",
    "for i in cnames:\n",
    "    print(i)\n",
    "    q75, q25 = np.percentile(train.loc[:,i], [75 ,25])\n",
    "    iqr = q75 - q25\n",
    "\n",
    "    min = q25 - (iqr*1.5)\n",
    "    max = q75 + (iqr*1.5)\n",
    "    print(min)\n",
    "    print(max)\n",
    "    train.loc[train[i] < min,i] = np.nan\n",
    "    train.loc[train[i] > max,i] = np.nan\n",
    "    "
   ]
  },
  {
   "cell_type": "code",
   "execution_count": 42,
   "metadata": {},
   "outputs": [
    {
     "data": {
      "text/plain": [
       "fare_amount            0\n",
       "pickup_datetime        0\n",
       "pickup_longitude     779\n",
       "pickup_latitude      497\n",
       "dropoff_longitude    893\n",
       "dropoff_latitude     737\n",
       "passenger_count        0\n",
       "dtype: int64"
      ]
     },
     "execution_count": 42,
     "metadata": {},
     "output_type": "execute_result"
    }
   ],
   "source": [
    "train.isna().sum()"
   ]
  },
  {
   "cell_type": "code",
   "execution_count": 43,
   "metadata": {},
   "outputs": [],
   "source": [
    "# fare_amount at the higher end are converted to na\n",
    "train.loc[train['fare_amount']<0 , 'fare_amount']=np.nan\n",
    "train.loc[train['fare_amount'] > 60, 'fare_amount']=np.nan\n"
   ]
  },
  {
   "cell_type": "code",
   "execution_count": 44,
   "metadata": {},
   "outputs": [
    {
     "data": {
      "text/plain": [
       "fare_amount           35\n",
       "pickup_datetime        0\n",
       "pickup_longitude     779\n",
       "pickup_latitude      497\n",
       "dropoff_longitude    893\n",
       "dropoff_latitude     737\n",
       "passenger_count        0\n",
       "dtype: int64"
      ]
     },
     "execution_count": 44,
     "metadata": {},
     "output_type": "execute_result"
    }
   ],
   "source": [
    "train.isna().sum()"
   ]
  },
  {
   "cell_type": "code",
   "execution_count": 45,
   "metadata": {},
   "outputs": [],
   "source": [
    "#there are few passenger counts that are greater than 8. convert them intoNAN\n",
    "train.loc[train['passenger_count'] > 6,'passenger_count'] = np.nan"
   ]
  },
  {
   "cell_type": "code",
   "execution_count": 46,
   "metadata": {},
   "outputs": [
    {
     "data": {
      "text/plain": [
       "fare_amount           35\n",
       "pickup_datetime        0\n",
       "pickup_longitude     779\n",
       "pickup_latitude      497\n",
       "dropoff_longitude    893\n",
       "dropoff_latitude     737\n",
       "passenger_count       17\n",
       "dtype: int64"
      ]
     },
     "execution_count": 46,
     "metadata": {},
     "output_type": "execute_result"
    }
   ],
   "source": [
    "train.isna().sum()"
   ]
  },
  {
   "cell_type": "code",
   "execution_count": 47,
   "metadata": {},
   "outputs": [],
   "source": [
    "#Since Median is the best method, we impute missing values with Median\n",
    "\n",
    "train['pickup_longitude'] = train['pickup_longitude'].fillna(train['pickup_longitude'].median())\n",
    "train['pickup_latitude'] = train['pickup_latitude'].fillna(train['pickup_latitude'].median())\n",
    "train['dropoff_longitude'] = train['dropoff_longitude'].fillna(train['dropoff_longitude'].median())\n",
    "train['dropoff_latitude'] = train['dropoff_latitude'].fillna(train['dropoff_latitude'].median())\n",
    "\n",
    "#for category variables we impute with mode\n",
    "train['passenger_count'] = train['passenger_count'].fillna(int(train['passenger_count'].mode()))\n"
   ]
  },
  {
   "cell_type": "code",
   "execution_count": 48,
   "metadata": {},
   "outputs": [
    {
     "data": {
      "text/plain": [
       "fare_amount          35\n",
       "pickup_datetime       0\n",
       "pickup_longitude      0\n",
       "pickup_latitude       0\n",
       "dropoff_longitude     0\n",
       "dropoff_latitude      0\n",
       "passenger_count       0\n",
       "dtype: int64"
      ]
     },
     "execution_count": 48,
     "metadata": {},
     "output_type": "execute_result"
    }
   ],
   "source": [
    "train.isna().sum()\n"
   ]
  },
  {
   "cell_type": "code",
   "execution_count": 49,
   "metadata": {},
   "outputs": [],
   "source": [
    "# droping na as fare_amount is target variable\n",
    "train=train.dropna()"
   ]
  },
  {
   "cell_type": "code",
   "execution_count": 50,
   "metadata": {},
   "outputs": [
    {
     "data": {
      "text/plain": [
       "fare_amount          0\n",
       "pickup_datetime      0\n",
       "pickup_longitude     0\n",
       "pickup_latitude      0\n",
       "dropoff_longitude    0\n",
       "dropoff_latitude     0\n",
       "passenger_count      0\n",
       "dtype: int64"
      ]
     },
     "execution_count": 50,
     "metadata": {},
     "output_type": "execute_result"
    }
   ],
   "source": [
    "train.isna().sum()"
   ]
  },
  {
   "cell_type": "code",
   "execution_count": 51,
   "metadata": {},
   "outputs": [
    {
     "data": {
      "text/plain": [
       "(15546, 7)"
      ]
     },
     "execution_count": 51,
     "metadata": {},
     "output_type": "execute_result"
    }
   ],
   "source": [
    "train.shape"
   ]
  },
  {
   "cell_type": "code",
   "execution_count": 52,
   "metadata": {},
   "outputs": [],
   "source": [
    "# At train.iloc[1264] in pickup_datetime=43, which is not in proper format so imputing this with na \n",
    "train.iloc[1264]= np.nan"
   ]
  },
  {
   "cell_type": "code",
   "execution_count": 53,
   "metadata": {},
   "outputs": [],
   "source": [
    "# removing the row with pickup_datetime=43 \n",
    "train.dropna(inplace=True)"
   ]
  },
  {
   "cell_type": "code",
   "execution_count": 54,
   "metadata": {},
   "outputs": [],
   "source": [
    "# function to calculate distance using latitude and longitude\n",
    "def distance(s_lat, s_lng, e_lat, e_lng):\n",
    "    \n",
    "    # approximate radius of earth in km\n",
    "    R = 6373.0\n",
    "    \n",
    "    s_lat = s_lat*np.pi/180.0                      \n",
    "    s_lng = np.deg2rad(s_lng)     \n",
    "    e_lat = np.deg2rad(e_lat)                       \n",
    "    e_lng = np.deg2rad(e_lng)  \n",
    "    \n",
    "    d = np.sin((e_lat - s_lat)/2)**2 + np.cos(s_lat)*np.cos(e_lat) * np.sin((e_lng - s_lng)/2)**2\n",
    "    \n",
    "    return 2 * R * np.arcsin(np.sqrt(d)) "
   ]
  },
  {
   "cell_type": "code",
   "execution_count": 55,
   "metadata": {},
   "outputs": [],
   "source": [
    "# Calculating new variable called distance\n",
    "train['distance'] = distance(train['pickup_latitude'],train['pickup_longitude'],train['dropoff_latitude'],train['dropoff_longitude'])\n"
   ]
  },
  {
   "cell_type": "code",
   "execution_count": 56,
   "metadata": {
    "scrolled": true
   },
   "outputs": [
    {
     "data": {
      "text/html": [
       "<div>\n",
       "<style scoped>\n",
       "    .dataframe tbody tr th:only-of-type {\n",
       "        vertical-align: middle;\n",
       "    }\n",
       "\n",
       "    .dataframe tbody tr th {\n",
       "        vertical-align: top;\n",
       "    }\n",
       "\n",
       "    .dataframe thead th {\n",
       "        text-align: right;\n",
       "    }\n",
       "</style>\n",
       "<table border=\"1\" class=\"dataframe\">\n",
       "  <thead>\n",
       "    <tr style=\"text-align: right;\">\n",
       "      <th></th>\n",
       "      <th>fare_amount</th>\n",
       "      <th>pickup_datetime</th>\n",
       "      <th>pickup_longitude</th>\n",
       "      <th>pickup_latitude</th>\n",
       "      <th>dropoff_longitude</th>\n",
       "      <th>dropoff_latitude</th>\n",
       "      <th>passenger_count</th>\n",
       "      <th>distance</th>\n",
       "    </tr>\n",
       "  </thead>\n",
       "  <tbody>\n",
       "    <tr>\n",
       "      <th>0</th>\n",
       "      <td>4.5</td>\n",
       "      <td>2009-06-15 17:26:21 UTC</td>\n",
       "      <td>-73.982653</td>\n",
       "      <td>40.721319</td>\n",
       "      <td>-73.981630</td>\n",
       "      <td>40.712278</td>\n",
       "      <td>1.0</td>\n",
       "      <td>1.009317</td>\n",
       "    </tr>\n",
       "    <tr>\n",
       "      <th>1</th>\n",
       "      <td>16.9</td>\n",
       "      <td>2010-01-05 16:52:16 UTC</td>\n",
       "      <td>-74.016048</td>\n",
       "      <td>40.711303</td>\n",
       "      <td>-73.979268</td>\n",
       "      <td>40.782004</td>\n",
       "      <td>1.0</td>\n",
       "      <td>8.452786</td>\n",
       "    </tr>\n",
       "    <tr>\n",
       "      <th>2</th>\n",
       "      <td>5.7</td>\n",
       "      <td>2011-08-18 00:35:00 UTC</td>\n",
       "      <td>-73.982738</td>\n",
       "      <td>40.761270</td>\n",
       "      <td>-73.991242</td>\n",
       "      <td>40.750562</td>\n",
       "      <td>2.0</td>\n",
       "      <td>1.389961</td>\n",
       "    </tr>\n",
       "    <tr>\n",
       "      <th>3</th>\n",
       "      <td>7.7</td>\n",
       "      <td>2012-04-21 04:30:42 UTC</td>\n",
       "      <td>-73.987130</td>\n",
       "      <td>40.733143</td>\n",
       "      <td>-73.991567</td>\n",
       "      <td>40.758092</td>\n",
       "      <td>1.0</td>\n",
       "      <td>2.800149</td>\n",
       "    </tr>\n",
       "    <tr>\n",
       "      <th>4</th>\n",
       "      <td>5.3</td>\n",
       "      <td>2010-03-09 07:51:00 UTC</td>\n",
       "      <td>-73.968095</td>\n",
       "      <td>40.768008</td>\n",
       "      <td>-73.956655</td>\n",
       "      <td>40.783762</td>\n",
       "      <td>1.0</td>\n",
       "      <td>1.999784</td>\n",
       "    </tr>\n",
       "  </tbody>\n",
       "</table>\n",
       "</div>"
      ],
      "text/plain": [
       "   fare_amount          pickup_datetime  pickup_longitude  pickup_latitude  \\\n",
       "0          4.5  2009-06-15 17:26:21 UTC        -73.982653        40.721319   \n",
       "1         16.9  2010-01-05 16:52:16 UTC        -74.016048        40.711303   \n",
       "2          5.7  2011-08-18 00:35:00 UTC        -73.982738        40.761270   \n",
       "3          7.7  2012-04-21 04:30:42 UTC        -73.987130        40.733143   \n",
       "4          5.3  2010-03-09 07:51:00 UTC        -73.968095        40.768008   \n",
       "\n",
       "   dropoff_longitude  dropoff_latitude  passenger_count  distance  \n",
       "0         -73.981630         40.712278              1.0  1.009317  \n",
       "1         -73.979268         40.782004              1.0  8.452786  \n",
       "2         -73.991242         40.750562              2.0  1.389961  \n",
       "3         -73.991567         40.758092              1.0  2.800149  \n",
       "4         -73.956655         40.783762              1.0  1.999784  "
      ]
     },
     "execution_count": 56,
     "metadata": {},
     "output_type": "execute_result"
    }
   ],
   "source": [
    "train.head()"
   ]
  },
  {
   "cell_type": "code",
   "execution_count": 57,
   "metadata": {},
   "outputs": [],
   "source": [
    "# Converting  pickup_datetime to pandas datetime \n",
    "train['pickup_datetime']=pd.to_datetime(train['pickup_datetime'], format= \"%Y-%m-%d %H:%M:%S UTC\")"
   ]
  },
  {
   "cell_type": "code",
   "execution_count": 58,
   "metadata": {},
   "outputs": [],
   "source": [
    "# Creating new variable using pandas datetime \n",
    "train['year'] = train.pickup_datetime.apply(lambda t: t.year)\n",
    "\n",
    "train['hour'] = train.pickup_datetime.apply(lambda t: t.hour)"
   ]
  },
  {
   "cell_type": "code",
   "execution_count": 59,
   "metadata": {},
   "outputs": [
    {
     "data": {
      "text/html": [
       "<div>\n",
       "<style scoped>\n",
       "    .dataframe tbody tr th:only-of-type {\n",
       "        vertical-align: middle;\n",
       "    }\n",
       "\n",
       "    .dataframe tbody tr th {\n",
       "        vertical-align: top;\n",
       "    }\n",
       "\n",
       "    .dataframe thead th {\n",
       "        text-align: right;\n",
       "    }\n",
       "</style>\n",
       "<table border=\"1\" class=\"dataframe\">\n",
       "  <thead>\n",
       "    <tr style=\"text-align: right;\">\n",
       "      <th></th>\n",
       "      <th>fare_amount</th>\n",
       "      <th>pickup_datetime</th>\n",
       "      <th>pickup_longitude</th>\n",
       "      <th>pickup_latitude</th>\n",
       "      <th>dropoff_longitude</th>\n",
       "      <th>dropoff_latitude</th>\n",
       "      <th>passenger_count</th>\n",
       "      <th>distance</th>\n",
       "      <th>year</th>\n",
       "      <th>hour</th>\n",
       "    </tr>\n",
       "  </thead>\n",
       "  <tbody>\n",
       "    <tr>\n",
       "      <th>0</th>\n",
       "      <td>4.5</td>\n",
       "      <td>2009-06-15 17:26:21</td>\n",
       "      <td>-73.982653</td>\n",
       "      <td>40.721319</td>\n",
       "      <td>-73.981630</td>\n",
       "      <td>40.712278</td>\n",
       "      <td>1.0</td>\n",
       "      <td>1.009317</td>\n",
       "      <td>2009</td>\n",
       "      <td>17</td>\n",
       "    </tr>\n",
       "    <tr>\n",
       "      <th>1</th>\n",
       "      <td>16.9</td>\n",
       "      <td>2010-01-05 16:52:16</td>\n",
       "      <td>-74.016048</td>\n",
       "      <td>40.711303</td>\n",
       "      <td>-73.979268</td>\n",
       "      <td>40.782004</td>\n",
       "      <td>1.0</td>\n",
       "      <td>8.452786</td>\n",
       "      <td>2010</td>\n",
       "      <td>16</td>\n",
       "    </tr>\n",
       "    <tr>\n",
       "      <th>2</th>\n",
       "      <td>5.7</td>\n",
       "      <td>2011-08-18 00:35:00</td>\n",
       "      <td>-73.982738</td>\n",
       "      <td>40.761270</td>\n",
       "      <td>-73.991242</td>\n",
       "      <td>40.750562</td>\n",
       "      <td>2.0</td>\n",
       "      <td>1.389961</td>\n",
       "      <td>2011</td>\n",
       "      <td>0</td>\n",
       "    </tr>\n",
       "    <tr>\n",
       "      <th>3</th>\n",
       "      <td>7.7</td>\n",
       "      <td>2012-04-21 04:30:42</td>\n",
       "      <td>-73.987130</td>\n",
       "      <td>40.733143</td>\n",
       "      <td>-73.991567</td>\n",
       "      <td>40.758092</td>\n",
       "      <td>1.0</td>\n",
       "      <td>2.800149</td>\n",
       "      <td>2012</td>\n",
       "      <td>4</td>\n",
       "    </tr>\n",
       "    <tr>\n",
       "      <th>4</th>\n",
       "      <td>5.3</td>\n",
       "      <td>2010-03-09 07:51:00</td>\n",
       "      <td>-73.968095</td>\n",
       "      <td>40.768008</td>\n",
       "      <td>-73.956655</td>\n",
       "      <td>40.783762</td>\n",
       "      <td>1.0</td>\n",
       "      <td>1.999784</td>\n",
       "      <td>2010</td>\n",
       "      <td>7</td>\n",
       "    </tr>\n",
       "  </tbody>\n",
       "</table>\n",
       "</div>"
      ],
      "text/plain": [
       "   fare_amount     pickup_datetime  pickup_longitude  pickup_latitude  \\\n",
       "0          4.5 2009-06-15 17:26:21        -73.982653        40.721319   \n",
       "1         16.9 2010-01-05 16:52:16        -74.016048        40.711303   \n",
       "2          5.7 2011-08-18 00:35:00        -73.982738        40.761270   \n",
       "3          7.7 2012-04-21 04:30:42        -73.987130        40.733143   \n",
       "4          5.3 2010-03-09 07:51:00        -73.968095        40.768008   \n",
       "\n",
       "   dropoff_longitude  dropoff_latitude  passenger_count  distance  year  hour  \n",
       "0         -73.981630         40.712278              1.0  1.009317  2009    17  \n",
       "1         -73.979268         40.782004              1.0  8.452786  2010    16  \n",
       "2         -73.991242         40.750562              2.0  1.389961  2011     0  \n",
       "3         -73.991567         40.758092              1.0  2.800149  2012     4  \n",
       "4         -73.956655         40.783762              1.0  1.999784  2010     7  "
      ]
     },
     "execution_count": 59,
     "metadata": {},
     "output_type": "execute_result"
    }
   ],
   "source": [
    "train.head()"
   ]
  },
  {
   "cell_type": "code",
   "execution_count": 60,
   "metadata": {},
   "outputs": [
    {
     "data": {
      "text/plain": [
       "<matplotlib.axes._subplots.AxesSubplot at 0x1f5ed549ef0>"
      ]
     },
     "execution_count": 60,
     "metadata": {},
     "output_type": "execute_result"
    },
    {
     "data": {
      "image/png": "[encoded data removed]",
      "text/plain": [
       "<Figure size 432x288 with 1 Axes>"
      ]
     },
     "metadata": {
      "needs_background": "light"
     },
     "output_type": "display_data"
    }
   ],
   "source": [
    "sns.barplot(x='year', y='fare_amount', data=train)"
   ]
  },
  {
   "cell_type": "code",
   "execution_count": 61,
   "metadata": {},
   "outputs": [
    {
     "data": {
      "text/plain": [
       "<matplotlib.axes._subplots.AxesSubplot at 0x1f5ed33f5c0>"
      ]
     },
     "execution_count": 61,
     "metadata": {},
     "output_type": "execute_result"
    },
    {
     "data": {
      "image/png": "[encoded data removed]",
      "text/plain": [
       "<Figure size 1008x288 with 1 Axes>"
      ]
     },
     "metadata": {
      "needs_background": "light"
     },
     "output_type": "display_data"
    }
   ],
   "source": [
    "plt.figure(figsize=(14,4))\n",
    "sns.barplot(x='hour', y='fare_amount', data=train)"
   ]
  },
  {
   "cell_type": "code",
   "execution_count": 62,
   "metadata": {},
   "outputs": [
    {
     "data": {
      "text/plain": [
       "<matplotlib.axes._subplots.AxesSubplot at 0x1f5ed2f47f0>"
      ]
     },
     "execution_count": 62,
     "metadata": {},
     "output_type": "execute_result"
    },
    {
     "data": {
      "image/png": "[encoded data removed]",
      "text/plain": [
       "<Figure size 1008x288 with 1 Axes>"
      ]
     },
     "metadata": {
      "needs_background": "light"
     },
     "output_type": "display_data"
    }
   ],
   "source": [
    "plt.figure(figsize=(14,4))\n",
    "sns.scatterplot(x='fare_amount',y ='distance', data=train,hue='passenger_count')"
   ]
  },
  {
   "cell_type": "code",
   "execution_count": 63,
   "metadata": {},
   "outputs": [],
   "source": [
    "cnames1=['fare_amount', 'pickup_datetime', 'pickup_longitude', 'pickup_latitude',\n",
    "       'dropoff_longitude', 'dropoff_latitude', 'passenger_count', 'distance',\n",
    "       'year', 'hour']"
   ]
  },
  {
   "cell_type": "code",
   "execution_count": 64,
   "metadata": {},
   "outputs": [],
   "source": [
    "df_corr = train.loc[:,cnames1]"
   ]
  },
  {
   "cell_type": "code",
   "execution_count": 65,
   "metadata": {},
   "outputs": [
    {
     "data": {
      "text/plain": [
       "<matplotlib.axes._subplots.AxesSubplot at 0x1f5ede17a20>"
      ]
     },
     "execution_count": 65,
     "metadata": {},
     "output_type": "execute_result"
    },
    {
     "data": {
      "image/png": "[encoded data removed]",
      "text/plain": [
       "<Figure size 1152x432 with 2 Axes>"
      ]
     },
     "metadata": {
      "needs_background": "light"
     },
     "output_type": "display_data"
    }
   ],
   "source": [
    "#Set the width and hieght of the plot\n",
    "f, ax = plt.subplots(figsize=(16, 6))\n",
    "\n",
    "#Generate correlation matrix\n",
    "corr = df_corr.corr()\n",
    "\n",
    "#Plot using seaborn library\n",
    "sns.heatmap(corr, mask=np.zeros_like(corr, dtype=np.bool), cmap='viridis',linewidths=1,linecolor='black',annot=True)\n"
   ]
  },
  {
   "cell_type": "code",
   "execution_count": 66,
   "metadata": {},
   "outputs": [
    {
     "data": {
      "text/plain": [
       "<matplotlib.axes._subplots.AxesSubplot at 0x1f5ef17e358>"
      ]
     },
     "execution_count": 66,
     "metadata": {},
     "output_type": "execute_result"
    },
    {
     "data": {
      "image/png": "[encoded data removed]",
      "text/plain": [
       "<Figure size 432x288 with 1 Axes>"
      ]
     },
     "metadata": {
      "needs_background": "light"
     },
     "output_type": "display_data"
    }
   ],
   "source": [
    "sns.distplot(train['fare_amount'])"
   ]
  },
  {
   "cell_type": "markdown",
   "metadata": {},
   "source": [
    "# Model Development"
   ]
  },
  {
   "cell_type": "code",
   "execution_count": 67,
   "metadata": {},
   "outputs": [],
   "source": [
    "\n",
    "from sklearn.model_selection import train_test_split\n",
    "from sklearn.tree import DecisionTreeRegressor\n"
   ]
  },
  {
   "cell_type": "code",
   "execution_count": 68,
   "metadata": {},
   "outputs": [
    {
     "data": {
      "text/plain": [
       "Index(['fare_amount', 'pickup_datetime', 'pickup_longitude', 'pickup_latitude',\n",
       "       'dropoff_longitude', 'dropoff_latitude', 'passenger_count', 'distance',\n",
       "       'year', 'hour'],\n",
       "      dtype='object')"
      ]
     },
     "execution_count": 68,
     "metadata": {},
     "output_type": "execute_result"
    }
   ],
   "source": [
    "train.columns"
   ]
  },
  {
   "cell_type": "code",
   "execution_count": 69,
   "metadata": {},
   "outputs": [],
   "source": [
    "X=train[['pickup_longitude', 'pickup_latitude','dropoff_longitude', 'dropoff_latitude', 'passenger_count','distance','year','hour']]"
   ]
  },
  {
   "cell_type": "code",
   "execution_count": 70,
   "metadata": {},
   "outputs": [],
   "source": [
    "y=train['fare_amount']"
   ]
  },
  {
   "cell_type": "code",
   "execution_count": 71,
   "metadata": {},
   "outputs": [],
   "source": [
    "X_train, X_test, y_train, y_test = train_test_split(X, y, test_size=0.2, random_state=10)"
   ]
  },
  {
   "cell_type": "code",
   "execution_count": 72,
   "metadata": {},
   "outputs": [],
   "source": [
    "dtree = DecisionTreeRegressor()"
   ]
  },
  {
   "cell_type": "code",
   "execution_count": 73,
   "metadata": {},
   "outputs": [
    {
     "data": {
      "text/plain": [
       "DecisionTreeRegressor(ccp_alpha=0.0, criterion='mse', max_depth=None,\n",
       "                      max_features=None, max_leaf_nodes=None,\n",
       "                      min_impurity_decrease=0.0, min_impurity_split=None,\n",
       "                      min_samples_leaf=1, min_samples_split=2,\n",
       "                      min_weight_fraction_leaf=0.0, presort='deprecated',\n",
       "                      random_state=None, splitter='best')"
      ]
     },
     "execution_count": 73,
     "metadata": {},
     "output_type": "execute_result"
    }
   ],
   "source": [
    "dtree.fit(X_train,y_train)"
   ]
  },
  {
   "cell_type": "code",
   "execution_count": 74,
   "metadata": {},
   "outputs": [],
   "source": [
    "predictions = dtree.predict(X_test)"
   ]
  },
  {
   "cell_type": "code",
   "execution_count": 75,
   "metadata": {},
   "outputs": [],
   "source": [
    "#Calculate MAPE\n",
    "def MAPE(y_true, y_pred): \n",
    "    mape = np.mean(np.abs((y_true - y_pred) / y_true))*100\n",
    "    return mape"
   ]
  },
  {
   "cell_type": "code",
   "execution_count": 76,
   "metadata": {},
   "outputs": [
    {
     "data": {
      "text/plain": [
       "32.413252379132025"
      ]
     },
     "execution_count": 76,
     "metadata": {},
     "output_type": "execute_result"
    }
   ],
   "source": [
    "MAPE(y_test, predictions)"
   ]
  },
  {
   "cell_type": "code",
   "execution_count": 77,
   "metadata": {},
   "outputs": [],
   "source": [
    "#Random Forest\n",
    "from sklearn.ensemble import RandomForestRegressor\n",
    "\n"
   ]
  },
  {
   "cell_type": "code",
   "execution_count": 78,
   "metadata": {},
   "outputs": [],
   "source": [
    "RF_model = RandomForestRegressor(n_estimators = 23).fit(X_train,y_train)"
   ]
  },
  {
   "cell_type": "code",
   "execution_count": 79,
   "metadata": {},
   "outputs": [],
   "source": [
    "RF_Predictions = RF_model.predict(X_test)"
   ]
  },
  {
   "cell_type": "code",
   "execution_count": 80,
   "metadata": {},
   "outputs": [
    {
     "data": {
      "text/plain": [
       "25.39546038007886"
      ]
     },
     "execution_count": 80,
     "metadata": {},
     "output_type": "execute_result"
    }
   ],
   "source": [
    "MAPE(y_test, RF_Predictions)"
   ]
  },
  {
   "cell_type": "markdown",
   "metadata": {},
   "source": [
    "##### function to increment n_estimators one by one and calculate error rate.. \n",
    "\n",
    "#error_rate=[]\n",
    "#for i in range(1,40):\n",
    "#    ran =RandomForestRegressor(n_estimators=i)\n",
    "#    ran.fit(X_train,y_train)\n",
    "#    pred_i=ran.predict(X_test)\n",
    "#    error_rate.append(np.mean(np.abs((y_test - pred_i) / y_test))*100)\n"
   ]
  },
  {
   "cell_type": "code",
   "execution_count": 126,
   "metadata": {},
   "outputs": [
    {
     "data": {
      "text/plain": [
       "[<matplotlib.lines.Line2D at 0x1c353e29400>]"
      ]
     },
     "execution_count": 126,
     "metadata": {},
     "output_type": "execute_result"
    },
    {
     "data": {
      "image/png": "[encoded data removed]",
      "text/plain": [
       "<Figure size 576x288 with 1 Axes>"
      ]
     },
     "metadata": {
      "needs_background": "light"
     },
     "output_type": "display_data"
    }
   ],
   "source": [
    "# plot of error rate by the function\n",
    "\n",
    "#plt.figure(figsize=(8,4))\n",
    "#plt.plot(range(1,40),error_rate,marker='o')"
   ]
  },
  {
   "cell_type": "code",
   "execution_count": 80,
   "metadata": {
    "scrolled": true
   },
   "outputs": [],
   "source": [
    "from sklearn.neighbors import KNeighborsRegressor\n",
    "\n"
   ]
  },
  {
   "cell_type": "code",
   "execution_count": 81,
   "metadata": {
    "scrolled": true
   },
   "outputs": [],
   "source": [
    "KNN_model = KNeighborsRegressor(n_neighbors = 14)"
   ]
  },
  {
   "cell_type": "code",
   "execution_count": 82,
   "metadata": {},
   "outputs": [
    {
     "data": {
      "text/plain": [
       "KNeighborsRegressor(algorithm='auto', leaf_size=30, metric='minkowski',\n",
       "                    metric_params=None, n_jobs=None, n_neighbors=14, p=2,\n",
       "                    weights='uniform')"
      ]
     },
     "execution_count": 82,
     "metadata": {},
     "output_type": "execute_result"
    }
   ],
   "source": [
    "KNN_model.fit(X_train, y_train)"
   ]
  },
  {
   "cell_type": "code",
   "execution_count": 83,
   "metadata": {},
   "outputs": [],
   "source": [
    "KNN_Predictions = KNN_model.predict(X_test)"
   ]
  },
  {
   "cell_type": "code",
   "execution_count": 84,
   "metadata": {},
   "outputs": [
    {
     "data": {
      "text/plain": [
       "42.75859923591262"
      ]
     },
     "execution_count": 84,
     "metadata": {},
     "output_type": "execute_result"
    }
   ],
   "source": [
    "MAPE(y_test, KNN_Predictions)"
   ]
  },
  {
   "cell_type": "code",
   "execution_count": 88,
   "metadata": {},
   "outputs": [],
   "source": [
    "# function to increment n_neighbors one by one and calculate error rate.. \n",
    "\n",
    "#error_rate=[]\n",
    "#for i in range(1,40):\n",
    "#    knn =KNeighborsRegressor(n_neighbors=i)\n",
    "#    knn.fit(X_train,y_train)\n",
    "#    pred_i=knn.predict(X_test)\n",
    "#    error_rate.append(np.mean(np.abs((y_test - pred_i) / y_test))*100)\n"
   ]
  },
  {
   "cell_type": "code",
   "execution_count": 127,
   "metadata": {},
   "outputs": [
    {
     "data": {
      "text/plain": [
       "[<matplotlib.lines.Line2D at 0x1c353e8f9e8>]"
      ]
     },
     "execution_count": 127,
     "metadata": {},
     "output_type": "execute_result"
    },
    {
     "data": {
      "image/png": "[encoded data removed]",
      "text/plain": [
       "<Figure size 576x288 with 1 Axes>"
      ]
     },
     "metadata": {
      "needs_background": "light"
     },
     "output_type": "display_data"
    }
   ],
   "source": [
    "# plot of error rate by the function\n",
    "#plt.figure(figsize=(8,4))\n",
    "#plt.plot(range(1,40),error_rate,marker='o')"
   ]
  },
  {
   "cell_type": "code",
   "execution_count": 85,
   "metadata": {},
   "outputs": [],
   "source": [
    "from sklearn.linear_model import LinearRegression"
   ]
  },
  {
   "cell_type": "code",
   "execution_count": 86,
   "metadata": {},
   "outputs": [],
   "source": [
    "lm = LinearRegression()"
   ]
  },
  {
   "cell_type": "code",
   "execution_count": 87,
   "metadata": {},
   "outputs": [
    {
     "data": {
      "text/plain": [
       "LinearRegression(copy_X=True, fit_intercept=True, n_jobs=None, normalize=False)"
      ]
     },
     "execution_count": 87,
     "metadata": {},
     "output_type": "execute_result"
    }
   ],
   "source": [
    "lm.fit(X_train, y_train)"
   ]
  },
  {
   "cell_type": "code",
   "execution_count": 88,
   "metadata": {},
   "outputs": [],
   "source": [
    "pred =lm.predict(X_test)"
   ]
  },
  {
   "cell_type": "code",
   "execution_count": 89,
   "metadata": {},
   "outputs": [
    {
     "data": {
      "text/plain": [
       "42.6133964475484"
      ]
     },
     "execution_count": 89,
     "metadata": {},
     "output_type": "execute_result"
    }
   ],
   "source": [
    "MAPE(y_test, pred)"
   ]
  },
  {
   "cell_type": "code",
   "execution_count": null,
   "metadata": {},
   "outputs": [],
   "source": []
  },
  {
   "cell_type": "markdown",
   "metadata": {},
   "source": [
    "# test data"
   ]
  },
  {
   "cell_type": "code",
   "execution_count": 81,
   "metadata": {},
   "outputs": [],
   "source": [
    "final = pd.read_csv('C:\\\\Users\\\\Ritu khurana\\\\Desktop\\\\Assigments\\\\Project_cab\\\\test.csv')"
   ]
  },
  {
   "cell_type": "code",
   "execution_count": 82,
   "metadata": {
    "scrolled": true
   },
   "outputs": [
    {
     "data": {
      "text/html": [
       "<div>\n",
       "<style scoped>\n",
       "    .dataframe tbody tr th:only-of-type {\n",
       "        vertical-align: middle;\n",
       "    }\n",
       "\n",
       "    .dataframe tbody tr th {\n",
       "        vertical-align: top;\n",
       "    }\n",
       "\n",
       "    .dataframe thead th {\n",
       "        text-align: right;\n",
       "    }\n",
       "</style>\n",
       "<table border=\"1\" class=\"dataframe\">\n",
       "  <thead>\n",
       "    <tr style=\"text-align: right;\">\n",
       "      <th></th>\n",
       "      <th>pickup_datetime</th>\n",
       "      <th>pickup_longitude</th>\n",
       "      <th>pickup_latitude</th>\n",
       "      <th>dropoff_longitude</th>\n",
       "      <th>dropoff_latitude</th>\n",
       "      <th>passenger_count</th>\n",
       "    </tr>\n",
       "  </thead>\n",
       "  <tbody>\n",
       "    <tr>\n",
       "      <th>0</th>\n",
       "      <td>2015-01-27 13:08:24 UTC</td>\n",
       "      <td>-73.973320</td>\n",
       "      <td>40.763805</td>\n",
       "      <td>-73.981430</td>\n",
       "      <td>40.743835</td>\n",
       "      <td>1</td>\n",
       "    </tr>\n",
       "    <tr>\n",
       "      <th>1</th>\n",
       "      <td>2015-01-27 13:08:24 UTC</td>\n",
       "      <td>-73.986862</td>\n",
       "      <td>40.719383</td>\n",
       "      <td>-73.998886</td>\n",
       "      <td>40.739201</td>\n",
       "      <td>1</td>\n",
       "    </tr>\n",
       "    <tr>\n",
       "      <th>2</th>\n",
       "      <td>2011-10-08 11:53:44 UTC</td>\n",
       "      <td>-73.982524</td>\n",
       "      <td>40.751260</td>\n",
       "      <td>-73.979654</td>\n",
       "      <td>40.746139</td>\n",
       "      <td>1</td>\n",
       "    </tr>\n",
       "    <tr>\n",
       "      <th>3</th>\n",
       "      <td>2012-12-01 21:12:12 UTC</td>\n",
       "      <td>-73.981160</td>\n",
       "      <td>40.767807</td>\n",
       "      <td>-73.990448</td>\n",
       "      <td>40.751635</td>\n",
       "      <td>1</td>\n",
       "    </tr>\n",
       "    <tr>\n",
       "      <th>4</th>\n",
       "      <td>2012-12-01 21:12:12 UTC</td>\n",
       "      <td>-73.966046</td>\n",
       "      <td>40.789775</td>\n",
       "      <td>-73.988565</td>\n",
       "      <td>40.744427</td>\n",
       "      <td>1</td>\n",
       "    </tr>\n",
       "  </tbody>\n",
       "</table>\n",
       "</div>"
      ],
      "text/plain": [
       "           pickup_datetime  pickup_longitude  pickup_latitude  \\\n",
       "0  2015-01-27 13:08:24 UTC        -73.973320        40.763805   \n",
       "1  2015-01-27 13:08:24 UTC        -73.986862        40.719383   \n",
       "2  2011-10-08 11:53:44 UTC        -73.982524        40.751260   \n",
       "3  2012-12-01 21:12:12 UTC        -73.981160        40.767807   \n",
       "4  2012-12-01 21:12:12 UTC        -73.966046        40.789775   \n",
       "\n",
       "   dropoff_longitude  dropoff_latitude  passenger_count  \n",
       "0         -73.981430         40.743835                1  \n",
       "1         -73.998886         40.739201                1  \n",
       "2         -73.979654         40.746139                1  \n",
       "3         -73.990448         40.751635                1  \n",
       "4         -73.988565         40.744427                1  "
      ]
     },
     "execution_count": 82,
     "metadata": {},
     "output_type": "execute_result"
    }
   ],
   "source": [
    "final.head()"
   ]
  },
  {
   "cell_type": "code",
   "execution_count": 83,
   "metadata": {},
   "outputs": [
    {
     "data": {
      "text/html": [
       "<div>\n",
       "<style scoped>\n",
       "    .dataframe tbody tr th:only-of-type {\n",
       "        vertical-align: middle;\n",
       "    }\n",
       "\n",
       "    .dataframe tbody tr th {\n",
       "        vertical-align: top;\n",
       "    }\n",
       "\n",
       "    .dataframe thead th {\n",
       "        text-align: right;\n",
       "    }\n",
       "</style>\n",
       "<table border=\"1\" class=\"dataframe\">\n",
       "  <thead>\n",
       "    <tr style=\"text-align: right;\">\n",
       "      <th></th>\n",
       "      <th>pickup_longitude</th>\n",
       "      <th>pickup_latitude</th>\n",
       "      <th>dropoff_longitude</th>\n",
       "      <th>dropoff_latitude</th>\n",
       "      <th>passenger_count</th>\n",
       "    </tr>\n",
       "  </thead>\n",
       "  <tbody>\n",
       "    <tr>\n",
       "      <th>count</th>\n",
       "      <td>9914.000000</td>\n",
       "      <td>9914.000000</td>\n",
       "      <td>9914.000000</td>\n",
       "      <td>9914.000000</td>\n",
       "      <td>9914.000000</td>\n",
       "    </tr>\n",
       "    <tr>\n",
       "      <th>mean</th>\n",
       "      <td>-73.974722</td>\n",
       "      <td>40.751041</td>\n",
       "      <td>-73.973657</td>\n",
       "      <td>40.751743</td>\n",
       "      <td>1.671273</td>\n",
       "    </tr>\n",
       "    <tr>\n",
       "      <th>std</th>\n",
       "      <td>0.042774</td>\n",
       "      <td>0.033541</td>\n",
       "      <td>0.039072</td>\n",
       "      <td>0.035435</td>\n",
       "      <td>1.278747</td>\n",
       "    </tr>\n",
       "    <tr>\n",
       "      <th>min</th>\n",
       "      <td>-74.252193</td>\n",
       "      <td>40.573143</td>\n",
       "      <td>-74.263242</td>\n",
       "      <td>40.568973</td>\n",
       "      <td>1.000000</td>\n",
       "    </tr>\n",
       "    <tr>\n",
       "      <th>25%</th>\n",
       "      <td>-73.992501</td>\n",
       "      <td>40.736125</td>\n",
       "      <td>-73.991247</td>\n",
       "      <td>40.735254</td>\n",
       "      <td>1.000000</td>\n",
       "    </tr>\n",
       "    <tr>\n",
       "      <th>50%</th>\n",
       "      <td>-73.982326</td>\n",
       "      <td>40.753051</td>\n",
       "      <td>-73.980015</td>\n",
       "      <td>40.754065</td>\n",
       "      <td>1.000000</td>\n",
       "    </tr>\n",
       "    <tr>\n",
       "      <th>75%</th>\n",
       "      <td>-73.968013</td>\n",
       "      <td>40.767113</td>\n",
       "      <td>-73.964059</td>\n",
       "      <td>40.768757</td>\n",
       "      <td>2.000000</td>\n",
       "    </tr>\n",
       "    <tr>\n",
       "      <th>max</th>\n",
       "      <td>-72.986532</td>\n",
       "      <td>41.709555</td>\n",
       "      <td>-72.990963</td>\n",
       "      <td>41.696683</td>\n",
       "      <td>6.000000</td>\n",
       "    </tr>\n",
       "  </tbody>\n",
       "</table>\n",
       "</div>"
      ],
      "text/plain": [
       "       pickup_longitude  pickup_latitude  dropoff_longitude  dropoff_latitude  \\\n",
       "count       9914.000000      9914.000000        9914.000000       9914.000000   \n",
       "mean         -73.974722        40.751041         -73.973657         40.751743   \n",
       "std            0.042774         0.033541           0.039072          0.035435   \n",
       "min          -74.252193        40.573143         -74.263242         40.568973   \n",
       "25%          -73.992501        40.736125         -73.991247         40.735254   \n",
       "50%          -73.982326        40.753051         -73.980015         40.754065   \n",
       "75%          -73.968013        40.767113         -73.964059         40.768757   \n",
       "max          -72.986532        41.709555         -72.990963         41.696683   \n",
       "\n",
       "       passenger_count  \n",
       "count      9914.000000  \n",
       "mean          1.671273  \n",
       "std           1.278747  \n",
       "min           1.000000  \n",
       "25%           1.000000  \n",
       "50%           1.000000  \n",
       "75%           2.000000  \n",
       "max           6.000000  "
      ]
     },
     "execution_count": 83,
     "metadata": {},
     "output_type": "execute_result"
    }
   ],
   "source": [
    "final.describe()"
   ]
  },
  {
   "cell_type": "code",
   "execution_count": 84,
   "metadata": {
    "scrolled": false
   },
   "outputs": [
    {
     "name": "stdout",
     "output_type": "stream",
     "text": [
      "<class 'pandas.core.frame.DataFrame'>\n",
      "RangeIndex: 9914 entries, 0 to 9913\n",
      "Data columns (total 6 columns):\n",
      "pickup_datetime      9914 non-null object\n",
      "pickup_longitude     9914 non-null float64\n",
      "pickup_latitude      9914 non-null float64\n",
      "dropoff_longitude    9914 non-null float64\n",
      "dropoff_latitude     9914 non-null float64\n",
      "passenger_count      9914 non-null int64\n",
      "dtypes: float64(4), int64(1), object(1)\n",
      "memory usage: 464.8+ KB\n"
     ]
    }
   ],
   "source": [
    "final.info()"
   ]
  },
  {
   "cell_type": "code",
   "execution_count": 85,
   "metadata": {},
   "outputs": [
    {
     "data": {
      "text/plain": [
       "pickup_datetime      0\n",
       "pickup_longitude     0\n",
       "pickup_latitude      0\n",
       "dropoff_longitude    0\n",
       "dropoff_latitude     0\n",
       "passenger_count      0\n",
       "dtype: int64"
      ]
     },
     "execution_count": 85,
     "metadata": {},
     "output_type": "execute_result"
    }
   ],
   "source": [
    "final.isna().sum()"
   ]
  },
  {
   "cell_type": "code",
   "execution_count": 86,
   "metadata": {},
   "outputs": [
    {
     "data": {
      "text/plain": [
       "pickup_datetime      86\n",
       "pickup_longitude     86\n",
       "pickup_latitude      86\n",
       "dropoff_longitude    86\n",
       "dropoff_latitude     86\n",
       "passenger_count      86\n",
       "dtype: int64"
      ]
     },
     "execution_count": 86,
     "metadata": {},
     "output_type": "execute_result"
    }
   ],
   "source": [
    "final[final['pickup_longitude']==final['dropoff_longitude']].count()"
   ]
  },
  {
   "cell_type": "code",
   "execution_count": 87,
   "metadata": {},
   "outputs": [],
   "source": [
    "final.drop(final[final['pickup_longitude']==final['dropoff_longitude']].index,inplace=True)"
   ]
  },
  {
   "cell_type": "code",
   "execution_count": 88,
   "metadata": {
    "scrolled": false
   },
   "outputs": [],
   "source": [
    "final['distance'] = distance(final['pickup_latitude'],final['pickup_longitude'],final['dropoff_latitude'],final['dropoff_longitude'])\n"
   ]
  },
  {
   "cell_type": "code",
   "execution_count": 89,
   "metadata": {},
   "outputs": [],
   "source": [
    "final['pickup_datetime']=pd.to_datetime(final['pickup_datetime'], format= \"%Y-%m-%d %H:%M:%S UTC\")"
   ]
  },
  {
   "cell_type": "code",
   "execution_count": 90,
   "metadata": {},
   "outputs": [],
   "source": [
    "final['year'] = final.pickup_datetime.apply(lambda t: t.year)\n",
    "final['hour'] = final.pickup_datetime.apply(lambda t: t.hour)"
   ]
  },
  {
   "cell_type": "code",
   "execution_count": 91,
   "metadata": {},
   "outputs": [],
   "source": [
    "RF_model = RandomForestRegressor(n_estimators = 24).fit(X_train,y_train)"
   ]
  },
  {
   "cell_type": "code",
   "execution_count": 92,
   "metadata": {},
   "outputs": [
    {
     "data": {
      "text/plain": [
       "Index(['pickup_datetime', 'pickup_longitude', 'pickup_latitude',\n",
       "       'dropoff_longitude', 'dropoff_latitude', 'passenger_count', 'distance',\n",
       "       'year', 'hour'],\n",
       "      dtype='object')"
      ]
     },
     "execution_count": 92,
     "metadata": {},
     "output_type": "execute_result"
    }
   ],
   "source": [
    "final.columns"
   ]
  },
  {
   "cell_type": "code",
   "execution_count": 93,
   "metadata": {},
   "outputs": [],
   "source": [
    "Xf_test =final[['pickup_longitude', 'pickup_latitude','dropoff_longitude', 'dropoff_latitude','passenger_count', 'distance',\n",
    "       'year', 'hour']]"
   ]
  },
  {
   "cell_type": "code",
   "execution_count": 94,
   "metadata": {},
   "outputs": [],
   "source": [
    "final['fare_amount']= RF_model.predict(Xf_test)"
   ]
  },
  {
   "cell_type": "code",
   "execution_count": 95,
   "metadata": {},
   "outputs": [
    {
     "data": {
      "text/html": [
       "<div>\n",
       "<style scoped>\n",
       "    .dataframe tbody tr th:only-of-type {\n",
       "        vertical-align: middle;\n",
       "    }\n",
       "\n",
       "    .dataframe tbody tr th {\n",
       "        vertical-align: top;\n",
       "    }\n",
       "\n",
       "    .dataframe thead th {\n",
       "        text-align: right;\n",
       "    }\n",
       "</style>\n",
       "<table border=\"1\" class=\"dataframe\">\n",
       "  <thead>\n",
       "    <tr style=\"text-align: right;\">\n",
       "      <th></th>\n",
       "      <th>pickup_datetime</th>\n",
       "      <th>pickup_longitude</th>\n",
       "      <th>pickup_latitude</th>\n",
       "      <th>dropoff_longitude</th>\n",
       "      <th>dropoff_latitude</th>\n",
       "      <th>passenger_count</th>\n",
       "      <th>distance</th>\n",
       "      <th>year</th>\n",
       "      <th>hour</th>\n",
       "      <th>fare_amount</th>\n",
       "    </tr>\n",
       "  </thead>\n",
       "  <tbody>\n",
       "    <tr>\n",
       "      <th>0</th>\n",
       "      <td>2015-01-27 13:08:24</td>\n",
       "      <td>-73.973320</td>\n",
       "      <td>40.763805</td>\n",
       "      <td>-73.981430</td>\n",
       "      <td>40.743835</td>\n",
       "      <td>1</td>\n",
       "      <td>2.323989</td>\n",
       "      <td>2015</td>\n",
       "      <td>13</td>\n",
       "      <td>10.670833</td>\n",
       "    </tr>\n",
       "    <tr>\n",
       "      <th>1</th>\n",
       "      <td>2015-01-27 13:08:24</td>\n",
       "      <td>-73.986862</td>\n",
       "      <td>40.719383</td>\n",
       "      <td>-73.998886</td>\n",
       "      <td>40.739201</td>\n",
       "      <td>1</td>\n",
       "      <td>2.426114</td>\n",
       "      <td>2015</td>\n",
       "      <td>13</td>\n",
       "      <td>10.191667</td>\n",
       "    </tr>\n",
       "    <tr>\n",
       "      <th>2</th>\n",
       "      <td>2011-10-08 11:53:44</td>\n",
       "      <td>-73.982524</td>\n",
       "      <td>40.751260</td>\n",
       "      <td>-73.979654</td>\n",
       "      <td>40.746139</td>\n",
       "      <td>1</td>\n",
       "      <td>0.618822</td>\n",
       "      <td>2011</td>\n",
       "      <td>11</td>\n",
       "      <td>4.233333</td>\n",
       "    </tr>\n",
       "    <tr>\n",
       "      <th>3</th>\n",
       "      <td>2012-12-01 21:12:12</td>\n",
       "      <td>-73.981160</td>\n",
       "      <td>40.767807</td>\n",
       "      <td>-73.990448</td>\n",
       "      <td>40.751635</td>\n",
       "      <td>1</td>\n",
       "      <td>1.961648</td>\n",
       "      <td>2012</td>\n",
       "      <td>21</td>\n",
       "      <td>9.725000</td>\n",
       "    </tr>\n",
       "    <tr>\n",
       "      <th>4</th>\n",
       "      <td>2012-12-01 21:12:12</td>\n",
       "      <td>-73.966046</td>\n",
       "      <td>40.789775</td>\n",
       "      <td>-73.988565</td>\n",
       "      <td>40.744427</td>\n",
       "      <td>1</td>\n",
       "      <td>5.388992</td>\n",
       "      <td>2012</td>\n",
       "      <td>21</td>\n",
       "      <td>14.908333</td>\n",
       "    </tr>\n",
       "  </tbody>\n",
       "</table>\n",
       "</div>"
      ],
      "text/plain": [
       "      pickup_datetime  pickup_longitude  pickup_latitude  dropoff_longitude  \\\n",
       "0 2015-01-27 13:08:24        -73.973320        40.763805         -73.981430   \n",
       "1 2015-01-27 13:08:24        -73.986862        40.719383         -73.998886   \n",
       "2 2011-10-08 11:53:44        -73.982524        40.751260         -73.979654   \n",
       "3 2012-12-01 21:12:12        -73.981160        40.767807         -73.990448   \n",
       "4 2012-12-01 21:12:12        -73.966046        40.789775         -73.988565   \n",
       "\n",
       "   dropoff_latitude  passenger_count  distance  year  hour  fare_amount  \n",
       "0         40.743835                1  2.323989  2015    13    10.670833  \n",
       "1         40.739201                1  2.426114  2015    13    10.191667  \n",
       "2         40.746139                1  0.618822  2011    11     4.233333  \n",
       "3         40.751635                1  1.961648  2012    21     9.725000  \n",
       "4         40.744427                1  5.388992  2012    21    14.908333  "
      ]
     },
     "execution_count": 95,
     "metadata": {},
     "output_type": "execute_result"
    }
   ],
   "source": [
    "final.head()"
   ]
  },
  {
   "cell_type": "code",
   "execution_count": 96,
   "metadata": {},
   "outputs": [],
   "source": [
    "#Writing final to a csv file\n",
    "final.to_csv('C:\\\\Users\\\\Ritu khurana\\\\Desktop\\\\Assigments\\\\Project_cab\\\\final.csv', columns=['pickup_longitude', 'pickup_latitude','dropoff_longitude', 'dropoff_latitude','passenger_count', 'distance','year', 'hour','fare_amount'], index=False)"
   ]
  }
 ],
 "metadata": {
  "kernelspec": {
   "display_name": "Python 3",
   "language": "python",
   "name": "python3"
  },
  "language_info": {
   "codemirror_mode": {
    "name": "ipython",
    "version": 3
   },
   "file_extension": ".py",
   "mimetype": "text/x-python",
   "name": "python",
   "nbconvert_exporter": "python",
   "pygments_lexer": "ipython3",
   "version": "3.7.1"
  }
 },
 "nbformat": 4,
 "nbformat_minor": 2
}
